{
 "cells": [
  {
   "cell_type": "code",
   "execution_count": 4,
   "id": "initial_id",
   "metadata": {
    "collapsed": true,
    "ExecuteTime": {
     "end_time": "2023-09-20T11:55:30.688184075Z",
     "start_time": "2023-09-20T11:55:30.547861334Z"
    }
   },
   "outputs": [],
   "source": [
    "import pandas as pd\n",
    "import pyspark"
   ]
  },
  {
   "cell_type": "code",
   "execution_count": null,
   "outputs": [],
   "source": [
    "p1=pd.read_csv('Automobile.csv')"
   ],
   "metadata": {
    "collapsed": false
   },
   "id": "c7b7f4fb114734f3"
  },
  {
   "cell_type": "code",
   "execution_count": 6,
   "outputs": [
    {
     "name": "stdout",
     "output_type": "stream",
     "text": [
      "          company   body-style  length engine  mileage sunroof\n",
      "0     alfa-romero  convertible   168.8   dohc       21      No\n",
      "1     alfa-romero    hatchback   171.2   dohc       19      No\n",
      "2            audi        sedan   176.6    ohc       24     Yes\n",
      "3            audi        sedan   176.6    NaN       18     Yes\n",
      "4            audi        sedan   177.3    ohc       19     Yes\n",
      "5            audi        wagon   192.7    ohc       19     Yes\n",
      "6             bmw        sedan   176.8    ohc       23     Yes\n",
      "7             bmw        sedan   176.8    ohc       23     Yes\n",
      "8             bmw        sedan   176.8    ohc       21     Yes\n",
      "9             bmw        sedan   189.0    ohc       16     Yes\n",
      "10            bmw        sedan   193.8    ohc       16     Yes\n",
      "11            bmw        sedan   197.0    ohc       15     Yes\n",
      "12      chevrolet    hatchback   141.1    ohc       47      No\n",
      "13      chevrolet    hatchback   155.9    ohc       38      No\n",
      "14      chevrolet        sedan   158.8    ohc       38      No\n",
      "15          dodge    hatchback   157.3    ohc       31      No\n",
      "16          dodge    hatchback   157.3    ohc       31      No\n",
      "17          honda        wagon   157.1    ohc       30      No\n",
      "18          honda        sedan   175.4    ohc       24      No\n",
      "19          honda        sedan   169.1    ohc       25      No\n",
      "20          isuzu        sedan   170.7    ohc       24      No\n",
      "21          isuzu        sedan   155.9    ohc       38      No\n",
      "22          isuzu        sedan   155.9    ohc       38      No\n",
      "23         jaguar        sedan   199.6   dohc       15     Yes\n",
      "24         jaguar        sedan   199.6   dohc       15     Yes\n",
      "25         jaguar        sedan   191.7   ohcv       13     Yes\n",
      "26          mazda    hatchback   159.1    ohc       30     Yes\n",
      "27          mazda    hatchback   159.1    ohc       31     Yes\n",
      "28          mazda    hatchback   159.1    ohc       31     Yes\n",
      "29          mazda    hatchback   169.0  rotor       17     Yes\n",
      "30          mazda        sedan   175.0    ohc       31     Yes\n",
      "31  mercedes-benz        sedan   190.9    ohc       22     Yes\n",
      "32  mercedes-benz        wagon   190.9    ohc       22     Yes\n",
      "33  mercedes-benz        sedan   208.1   ohcv       14     Yes\n",
      "34  mercedes-benz      hardtop   199.2   ohcv       14     Yes\n",
      "35     mitsubishi    hatchback   157.3    ohc       37     Yes\n",
      "36     mitsubishi    hatchback   157.3    ohc       31     Yes\n",
      "37     mitsubishi        sedan   172.4    ohc       25     Yes\n",
      "38     mitsubishi        sedan   172.4    ohc       25     Yes\n",
      "39         nissan        sedan   165.3    ohc       45      No\n",
      "40         nissan        sedan   165.3    ohc       31      No\n",
      "41         nissan        sedan   165.3    ohc       31      No\n",
      "42         nissan        wagon   170.2    ohc       31      No\n",
      "43         nissan        sedan   184.6   ohcv       19      No\n",
      "44        porsche      hardtop   168.9   ohcf       17     Yes\n",
      "45        porsche  convertible   168.9   ohcf       17     Yes\n",
      "46        porsche    hatchback   175.7  dohcv       17     Yes\n",
      "47         toyota    hatchback   158.7    ohc       35      No\n",
      "48         toyota    hatchback   158.7    ohc       31      No\n",
      "49         toyota    hatchback   158.7    ohc       31      No\n",
      "50         toyota        wagon   169.7    ohc       31      No\n",
      "51         toyota        wagon   169.7    ohc       27      No\n",
      "52         toyota        wagon   169.7    ohc       27      No\n",
      "53         toyota        wagon   187.8   dohc       19      No\n",
      "54     volkswagen        sedan   171.7    ohc       37     Yes\n",
      "55     volkswagen        sedan   171.7    ohc       27     Yes\n",
      "56     volkswagen        sedan   171.7    ohc       37     Yes\n",
      "57     volkswagen        sedan   171.7    ohc       26     Yes\n",
      "58          volvo        sedan   188.8    ohc       23      No\n",
      "59          volvo        wagon   188.8    ohc       23      No\n"
     ]
    }
   ],
   "source": [
    "print(type(p1))"
   ],
   "metadata": {
    "collapsed": false,
    "ExecuteTime": {
     "end_time": "2023-09-20T11:56:18.110300591Z",
     "start_time": "2023-09-20T11:56:18.012573748Z"
    }
   },
   "id": "59c27fa65212d869"
  },
  {
   "cell_type": "code",
   "execution_count": 8,
   "outputs": [],
   "source": [
    "from pyspark.sql import SparkSession"
   ],
   "metadata": {
    "collapsed": false,
    "ExecuteTime": {
     "end_time": "2023-09-20T12:11:11.349642924Z",
     "start_time": "2023-09-20T12:11:11.263958353Z"
    }
   },
   "id": "f2477f7aba6d15a"
  },
  {
   "cell_type": "code",
   "execution_count": 9,
   "outputs": [
    {
     "name": "stderr",
     "output_type": "stream",
     "text": [
      "Setting default log level to \"WARN\".\n",
      "To adjust logging level use sc.setLogLevel(newLevel). For SparkR, use setLogLevel(newLevel).\n",
      "23/09/20 12:14:06 WARN NativeCodeLoader: Unable to load native-hadoop library for your platform... using builtin-java classes where applicable\n"
     ]
    }
   ],
   "source": [
    "spark=SparkSession.builder.appName('zenlite').getOrCreate()"
   ],
   "metadata": {
    "collapsed": false,
    "ExecuteTime": {
     "end_time": "2023-09-20T12:14:10.400616305Z",
     "start_time": "2023-09-20T12:13:58.366557505Z"
    }
   },
   "id": "43c64faf15ce8f0b"
  },
  {
   "cell_type": "code",
   "execution_count": 10,
   "outputs": [
    {
     "data": {
      "text/plain": "<pyspark.sql.session.SparkSession at 0x7fbd1faad780>",
      "text/html": "\n            <div>\n                <p><b>SparkSession - in-memory</b></p>\n                \n        <div>\n            <p><b>SparkContext</b></p>\n\n            <p><a href=\"http://ip-172-31-34-95.ap-south-1.compute.internal:4040\">Spark UI</a></p>\n\n            <dl>\n              <dt>Version</dt>\n                <dd><code>v3.4.1</code></dd>\n              <dt>Master</dt>\n                <dd><code>local[*]</code></dd>\n              <dt>AppName</dt>\n                <dd><code>zenlite</code></dd>\n            </dl>\n        </div>\n        \n            </div>\n        "
     },
     "execution_count": 10,
     "metadata": {},
     "output_type": "execute_result"
    }
   ],
   "source": [
    "spark"
   ],
   "metadata": {
    "collapsed": false,
    "ExecuteTime": {
     "end_time": "2023-09-20T12:16:44.065603179Z",
     "start_time": "2023-09-20T12:16:40.708848053Z"
    }
   },
   "id": "7e9e011b230b7127"
  },
  {
   "cell_type": "code",
   "execution_count": 11,
   "outputs": [
    {
     "name": "stderr",
     "output_type": "stream",
     "text": [
      "                                                                                \r"
     ]
    }
   ],
   "source": [
    "f1=spark.read.csv('Automobile.csv')"
   ],
   "metadata": {
    "collapsed": false,
    "ExecuteTime": {
     "end_time": "2023-09-20T12:23:00.173405229Z",
     "start_time": "2023-09-20T12:22:49.605223099Z"
    }
   },
   "id": "5af117e7295a860d"
  },
  {
   "cell_type": "code",
   "execution_count": 12,
   "outputs": [
    {
     "name": "stdout",
     "output_type": "stream",
     "text": [
      "+-----------+-----------+------+------+-------+-------+\n",
      "|        _c0|        _c1|   _c2|   _c3|    _c4|    _c5|\n",
      "+-----------+-----------+------+------+-------+-------+\n",
      "|    company| body-style|length|engine|mileage|sunroof|\n",
      "|alfa-romero|convertible| 168.8|  dohc|     21|     No|\n",
      "|alfa-romero|  hatchback| 171.2|  dohc|     19|     No|\n",
      "|       audi|      sedan| 176.6|   ohc|     24|    Yes|\n",
      "|       audi|      sedan| 176.6|  None|     18|    Yes|\n",
      "|       audi|      sedan| 177.3|   ohc|     19|    Yes|\n",
      "|       audi|      wagon| 192.7|   ohc|     19|    Yes|\n",
      "|        bmw|      sedan| 176.8|   ohc|     23|    Yes|\n",
      "|        bmw|      sedan| 176.8|   ohc|     23|    Yes|\n",
      "|        bmw|      sedan| 176.8|   ohc|     21|    Yes|\n",
      "|        bmw|      sedan|   189|   ohc|     16|    Yes|\n",
      "|        bmw|      sedan| 193.8|   ohc|     16|    Yes|\n",
      "|        bmw|      sedan|   197|   ohc|     15|    Yes|\n",
      "|  chevrolet|  hatchback| 141.1|   ohc|     47|     No|\n",
      "|  chevrolet|  hatchback| 155.9|   ohc|     38|     No|\n",
      "|  chevrolet|      sedan| 158.8|   ohc|     38|     No|\n",
      "|      dodge|  hatchback| 157.3|   ohc|     31|     No|\n",
      "|      dodge|  hatchback| 157.3|   ohc|     31|     No|\n",
      "|      honda|      wagon| 157.1|   ohc|     30|     No|\n",
      "|      honda|      sedan| 175.4|   ohc|     24|     No|\n",
      "+-----------+-----------+------+------+-------+-------+\n"
     ]
    }
   ],
   "source": [
    "f1.show()"
   ],
   "metadata": {
    "collapsed": false,
    "ExecuteTime": {
     "end_time": "2023-09-20T12:24:39.001101353Z",
     "start_time": "2023-09-20T12:24:37.833869041Z"
    }
   },
   "id": "759880884b567b94"
  },
  {
   "cell_type": "code",
   "execution_count": 13,
   "outputs": [
    {
     "name": "stdout",
     "output_type": "stream",
     "text": [
      "+-----------+-----------+------+------+-------+-------+\n",
      "|    company| body-style|length|engine|mileage|sunroof|\n",
      "+-----------+-----------+------+------+-------+-------+\n",
      "|alfa-romero|convertible| 168.8|  dohc|     21|     No|\n",
      "|alfa-romero|  hatchback| 171.2|  dohc|     19|     No|\n",
      "|       audi|      sedan| 176.6|   ohc|     24|    Yes|\n",
      "|       audi|      sedan| 176.6|  None|     18|    Yes|\n",
      "|       audi|      sedan| 177.3|   ohc|     19|    Yes|\n",
      "|       audi|      wagon| 192.7|   ohc|     19|    Yes|\n",
      "|        bmw|      sedan| 176.8|   ohc|     23|    Yes|\n",
      "|        bmw|      sedan| 176.8|   ohc|     23|    Yes|\n",
      "|        bmw|      sedan| 176.8|   ohc|     21|    Yes|\n",
      "|        bmw|      sedan|   189|   ohc|     16|    Yes|\n",
      "|        bmw|      sedan| 193.8|   ohc|     16|    Yes|\n",
      "|        bmw|      sedan|   197|   ohc|     15|    Yes|\n",
      "|  chevrolet|  hatchback| 141.1|   ohc|     47|     No|\n",
      "|  chevrolet|  hatchback| 155.9|   ohc|     38|     No|\n",
      "|  chevrolet|      sedan| 158.8|   ohc|     38|     No|\n",
      "|      dodge|  hatchback| 157.3|   ohc|     31|     No|\n",
      "|      dodge|  hatchback| 157.3|   ohc|     31|     No|\n",
      "|      honda|      wagon| 157.1|   ohc|     30|     No|\n",
      "|      honda|      sedan| 175.4|   ohc|     24|     No|\n",
      "|      honda|      sedan| 169.1|   ohc|     25|     No|\n",
      "+-----------+-----------+------+------+-------+-------+\n"
     ]
    }
   ],
   "source": [
    "f2=spark.read.option('header','true').csv('Automobile.csv')\n",
    "f2.show()"
   ],
   "metadata": {
    "collapsed": false,
    "ExecuteTime": {
     "end_time": "2023-09-20T12:32:31.483401237Z",
     "start_time": "2023-09-20T12:32:29.685535130Z"
    }
   },
   "id": "120dcc9533ea5aaa"
  },
  {
   "cell_type": "code",
   "execution_count": 14,
   "outputs": [
    {
     "name": "stdout",
     "output_type": "stream",
     "text": [
      "<class 'pyspark.sql.dataframe.DataFrame'>\n"
     ]
    }
   ],
   "source": [
    "print(type(f2))"
   ],
   "metadata": {
    "collapsed": false,
    "ExecuteTime": {
     "end_time": "2023-09-20T12:32:53.416259403Z",
     "start_time": "2023-09-20T12:32:53.362244042Z"
    }
   },
   "id": "65adcaf0490a8aa9"
  },
  {
   "cell_type": "code",
   "execution_count": 15,
   "outputs": [
    {
     "data": {
      "text/plain": "[Row(company='alfa-romero', body-style='convertible', length='168.8', engine='dohc', mileage='21', sunroof='No'),\n Row(company='alfa-romero', body-style='hatchback', length='171.2', engine='dohc', mileage='19', sunroof='No'),\n Row(company='audi', body-style='sedan', length='176.6', engine='ohc', mileage='24', sunroof='Yes'),\n Row(company='audi', body-style='sedan', length='176.6', engine='None', mileage='18', sunroof='Yes'),\n Row(company='audi', body-style='sedan', length='177.3', engine='ohc', mileage='19', sunroof='Yes')]"
     },
     "execution_count": 15,
     "metadata": {},
     "output_type": "execute_result"
    }
   ],
   "source": [
    "f2.head(5)"
   ],
   "metadata": {
    "collapsed": false,
    "ExecuteTime": {
     "end_time": "2023-09-20T12:34:34.232819475Z",
     "start_time": "2023-09-20T12:34:33.352859347Z"
    }
   },
   "id": "1889d15fd0e6a059"
  },
  {
   "cell_type": "code",
   "execution_count": null,
   "outputs": [],
   "source": [],
   "metadata": {
    "collapsed": false
   },
   "id": "ffe648c2ff82d670"
  }
 ],
 "metadata": {
  "kernelspec": {
   "display_name": "Python 3",
   "language": "python",
   "name": "python3"
  },
  "language_info": {
   "codemirror_mode": {
    "name": "ipython",
    "version": 2
   },
   "file_extension": ".py",
   "mimetype": "text/x-python",
   "name": "python",
   "nbconvert_exporter": "python",
   "pygments_lexer": "ipython2",
   "version": "2.7.6"
  }
 },
 "nbformat": 4,
 "nbformat_minor": 5
}
