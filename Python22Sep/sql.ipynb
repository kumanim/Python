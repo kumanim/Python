{
 "cells": [
  {
   "cell_type": "code",
   "execution_count": 16,
   "outputs": [],
   "source": [
    "import pandas as pd\n",
    "import pyspark"
   ],
   "metadata": {
    "collapsed": false,
    "ExecuteTime": {
     "end_time": "2023-09-22T06:55:08.325656402Z",
     "start_time": "2023-09-22T06:55:07.780050993Z"
    }
   },
   "id": "initial_id"
  },
  {
   "cell_type": "code",
   "execution_count": 17,
   "outputs": [
    {
     "name": "stdout",
     "output_type": "stream",
     "text": [
      "<class 'pandas.core.frame.DataFrame'>\n"
     ]
    }
   ],
   "source": [
    "p1=pd.read_csv('imdb_1000.csv')\n",
    "print(type(p1))"
   ],
   "metadata": {
    "collapsed": false,
    "ExecuteTime": {
     "end_time": "2023-09-22T06:55:08.390923719Z",
     "start_time": "2023-09-22T06:55:07.819767142Z"
    }
   },
   "id": "f07798565c5f008e"
  },
  {
   "cell_type": "code",
   "execution_count": 18,
   "outputs": [],
   "source": [
    "\n",
    "from pyspark.sql import SparkSession\n",
    "\n",
    "spark = SparkSession.builder.appName('sqlonspark').getOrCreate()  #sparksession is a function we import from spark has builder app name , if the session exist it will run or new session will "
   ],
   "metadata": {
    "collapsed": false,
    "ExecuteTime": {
     "end_time": "2023-09-22T06:55:08.392248549Z",
     "start_time": "2023-09-22T06:55:07.865924641Z"
    }
   },
   "id": "460dbfc6d547451c"
  },
  {
   "cell_type": "code",
   "execution_count": 19,
   "outputs": [
    {
     "data": {
      "text/plain": "<pyspark.sql.session.SparkSession at 0x7f4e74617610>",
      "text/html": "\n            <div>\n                <p><b>SparkSession - in-memory</b></p>\n                \n        <div>\n            <p><b>SparkContext</b></p>\n\n            <p><a href=\"http://ip-172-31-34-95.ap-south-1.compute.internal:4042\">Spark UI</a></p>\n\n            <dl>\n              <dt>Version</dt>\n                <dd><code>v3.4.1</code></dd>\n              <dt>Master</dt>\n                <dd><code>local[*]</code></dd>\n              <dt>AppName</dt>\n                <dd><code>sqlonspark</code></dd>\n            </dl>\n        </div>\n        \n            </div>\n        "
     },
     "execution_count": 19,
     "metadata": {},
     "output_type": "execute_result"
    }
   ],
   "source": [
    "spark"
   ],
   "metadata": {
    "collapsed": false,
    "ExecuteTime": {
     "end_time": "2023-09-22T06:55:08.418541929Z",
     "start_time": "2023-09-22T06:55:07.877734685Z"
    }
   },
   "id": "1496226320f2d67e"
  },
  {
   "cell_type": "code",
   "execution_count": 20,
   "outputs": [],
   "source": [
    "f1=spark.read.csv('imdb_1000.csv')"
   ],
   "metadata": {
    "collapsed": false,
    "ExecuteTime": {
     "end_time": "2023-09-22T06:55:09.481224812Z",
     "start_time": "2023-09-22T06:55:07.911801496Z"
    }
   },
   "id": "ad89f10006f59e02"
  },
  {
   "cell_type": "code",
   "execution_count": 21,
   "outputs": [
    {
     "data": {
      "text/plain": "DataFrame[_c0: string, _c1: string, _c2: string, _c3: string, _c4: string, _c5: string]"
     },
     "execution_count": 21,
     "metadata": {},
     "output_type": "execute_result"
    }
   ],
   "source": [
    "f1"
   ],
   "metadata": {
    "collapsed": false,
    "ExecuteTime": {
     "end_time": "2023-09-22T06:55:09.639755032Z",
     "start_time": "2023-09-22T06:55:09.455356089Z"
    }
   },
   "id": "37bb583b6d71683b"
  },
  {
   "cell_type": "code",
   "execution_count": 22,
   "outputs": [
    {
     "name": "stdout",
     "output_type": "stream",
     "text": [
      "+-----------+--------------------+--------------+---------+--------+--------------------+\n",
      "|        _c0|                 _c1|           _c2|      _c3|     _c4|                 _c5|\n",
      "+-----------+--------------------+--------------+---------+--------+--------------------+\n",
      "|star_rating|               title|content_rating|    genre|duration|         actors_list|\n",
      "|        9.3|The Shawshank Red...|             R|    Crime|     142|[u'Tim Robbins', ...|\n",
      "|        9.2|       The Godfather|             R|    Crime|     175|[u'Marlon Brando'...|\n",
      "|        9.1|The Godfather: Pa...|             R|    Crime|     200|[u'Al Pacino', u'...|\n",
      "|          9|     The Dark Knight|         PG-13|   Action|     152|[u'Christian Bale...|\n",
      "|        8.9|        Pulp Fiction|             R|    Crime|     154|[u'John Travolta'...|\n",
      "|        8.9|        12 Angry Men|     NOT RATED|    Drama|      96|[u'Henry Fonda', ...|\n",
      "|        8.9|The Good, the Bad...|     NOT RATED|  Western|     161|[u'Clint Eastwood...|\n",
      "|        8.9|The Lord of the R...|         PG-13|Adventure|     201|[u'Elijah Wood', ...|\n",
      "|        8.9|    Schindler's List|             R|Biography|     195|[u'Liam Neeson', ...|\n",
      "|        8.9|          Fight Club|             R|    Drama|     139|[u'Brad Pitt', u'...|\n",
      "|        8.8|The Lord of the R...|         PG-13|Adventure|     178|[u'Elijah Wood', ...|\n",
      "|        8.8|           Inception|         PG-13|   Action|     148|[u'Leonardo DiCap...|\n",
      "|        8.8|Star Wars: Episod...|            PG|   Action|     124|[u'Mark Hamill', ...|\n",
      "|        8.8|        Forrest Gump|         PG-13|    Drama|     142|[u'Tom Hanks', u'...|\n",
      "|        8.8|The Lord of the R...|         PG-13|Adventure|     179|[u'Elijah Wood', ...|\n",
      "|        8.7|        Interstellar|         PG-13|Adventure|     169|[u'Matthew McCona...|\n",
      "|        8.7|One Flew Over the...|             R|    Drama|     133|[u'Jack Nicholson...|\n",
      "|        8.7|       Seven Samurai|       UNRATED|    Drama|     207|[u'Toshir\\xf4 Mif...|\n",
      "|        8.7|          Goodfellas|             R|Biography|     146|[u'Robert De Niro...|\n",
      "+-----------+--------------------+--------------+---------+--------+--------------------+\n"
     ]
    }
   ],
   "source": [
    "f1.show()"
   ],
   "metadata": {
    "collapsed": false,
    "ExecuteTime": {
     "end_time": "2023-09-22T06:55:10.160600894Z",
     "start_time": "2023-09-22T06:55:09.507108475Z"
    }
   },
   "id": "e5a43375a4d2cd9f"
  },
  {
   "cell_type": "code",
   "execution_count": 23,
   "outputs": [
    {
     "name": "stdout",
     "output_type": "stream",
     "text": [
      "+-----------+--------------------+--------------+---------+--------+--------------------+\n",
      "|star_rating|               title|content_rating|    genre|duration|         actors_list|\n",
      "+-----------+--------------------+--------------+---------+--------+--------------------+\n",
      "|        9.3|The Shawshank Red...|             R|    Crime|     142|[u'Tim Robbins', ...|\n",
      "|        9.2|       The Godfather|             R|    Crime|     175|[u'Marlon Brando'...|\n",
      "|        9.1|The Godfather: Pa...|             R|    Crime|     200|[u'Al Pacino', u'...|\n",
      "|          9|     The Dark Knight|         PG-13|   Action|     152|[u'Christian Bale...|\n",
      "|        8.9|        Pulp Fiction|             R|    Crime|     154|[u'John Travolta'...|\n",
      "|        8.9|        12 Angry Men|     NOT RATED|    Drama|      96|[u'Henry Fonda', ...|\n",
      "|        8.9|The Good, the Bad...|     NOT RATED|  Western|     161|[u'Clint Eastwood...|\n",
      "|        8.9|The Lord of the R...|         PG-13|Adventure|     201|[u'Elijah Wood', ...|\n",
      "|        8.9|    Schindler's List|             R|Biography|     195|[u'Liam Neeson', ...|\n",
      "|        8.9|          Fight Club|             R|    Drama|     139|[u'Brad Pitt', u'...|\n",
      "|        8.8|The Lord of the R...|         PG-13|Adventure|     178|[u'Elijah Wood', ...|\n",
      "|        8.8|           Inception|         PG-13|   Action|     148|[u'Leonardo DiCap...|\n",
      "|        8.8|Star Wars: Episod...|            PG|   Action|     124|[u'Mark Hamill', ...|\n",
      "|        8.8|        Forrest Gump|         PG-13|    Drama|     142|[u'Tom Hanks', u'...|\n",
      "|        8.8|The Lord of the R...|         PG-13|Adventure|     179|[u'Elijah Wood', ...|\n",
      "|        8.7|        Interstellar|         PG-13|Adventure|     169|[u'Matthew McCona...|\n",
      "|        8.7|One Flew Over the...|             R|    Drama|     133|[u'Jack Nicholson...|\n",
      "|        8.7|       Seven Samurai|       UNRATED|    Drama|     207|[u'Toshir\\xf4 Mif...|\n",
      "|        8.7|          Goodfellas|             R|Biography|     146|[u'Robert De Niro...|\n",
      "|        8.7|           Star Wars|            PG|   Action|     121|[u'Mark Hamill', ...|\n",
      "+-----------+--------------------+--------------+---------+--------+--------------------+\n"
     ]
    }
   ],
   "source": [
    "f1=spark.read.option('header','true').csv('imdb_1000.csv') #read file with option\n",
    "f1.show()"
   ],
   "metadata": {
    "collapsed": false,
    "ExecuteTime": {
     "end_time": "2023-09-22T06:55:12.047520137Z",
     "start_time": "2023-09-22T06:55:10.074117608Z"
    }
   },
   "id": "4ea462e071953444"
  },
  {
   "cell_type": "code",
   "execution_count": 24,
   "outputs": [
    {
     "name": "stdout",
     "output_type": "stream",
     "text": [
      "<class 'pyspark.sql.dataframe.DataFrame'>\n"
     ]
    }
   ],
   "source": [
    "print(type(f1))"
   ],
   "metadata": {
    "collapsed": false,
    "ExecuteTime": {
     "end_time": "2023-09-22T06:55:12.237889442Z",
     "start_time": "2023-09-22T06:55:12.027046598Z"
    }
   },
   "id": "4232162cea6a3f9c"
  },
  {
   "cell_type": "code",
   "execution_count": 25,
   "outputs": [
    {
     "data": {
      "text/plain": "[Row(star_rating='9.3', title='The Shawshank Redemption', content_rating='R', genre='Crime', duration='142', actors_list=\"[u'Tim Robbins', u'Morgan Freeman', u'Bob Gunton']\"),\n Row(star_rating='9.2', title='The Godfather', content_rating='R', genre='Crime', duration='175', actors_list=\"[u'Marlon Brando', u'Al Pacino', u'James Caan']\"),\n Row(star_rating='9.1', title='The Godfather: Part II', content_rating='R', genre='Crime', duration='200', actors_list=\"[u'Al Pacino', u'Robert De Niro', u'Robert Duvall']\"),\n Row(star_rating='9', title='The Dark Knight', content_rating='PG-13', genre='Action', duration='152', actors_list=\"[u'Christian Bale', u'Heath Ledger', u'Aaron Eckhart']\"),\n Row(star_rating='8.9', title='Pulp Fiction', content_rating='R', genre='Crime', duration='154', actors_list=\"[u'John Travolta', u'Uma Thurman', u'Samuel L. Jackson']\")]"
     },
     "execution_count": 25,
     "metadata": {},
     "output_type": "execute_result"
    }
   ],
   "source": [
    "f1.head(5)"
   ],
   "metadata": {
    "collapsed": false,
    "ExecuteTime": {
     "end_time": "2023-09-22T06:55:12.722621253Z",
     "start_time": "2023-09-22T06:55:12.094078032Z"
    }
   },
   "id": "44fc1419db2db26"
  },
  {
   "cell_type": "code",
   "execution_count": 26,
   "outputs": [],
   "source": [
    "f1.createOrReplaceTempView(\"f3\")"
   ],
   "metadata": {
    "collapsed": false,
    "ExecuteTime": {
     "end_time": "2023-09-22T06:55:12.727274545Z",
     "start_time": "2023-09-22T06:55:12.397522489Z"
    }
   },
   "id": "b8bcf6e12711145f"
  },
  {
   "cell_type": "code",
   "execution_count": 28,
   "outputs": [
    {
     "name": "stdout",
     "output_type": "stream",
     "text": [
      "+-----------+--------------------+--------------+---------+--------+--------------------+\n",
      "|star_rating|               title|content_rating|    genre|duration|         actors_list|\n",
      "+-----------+--------------------+--------------+---------+--------+--------------------+\n",
      "|        9.3|The Shawshank Red...|             R|    Crime|     142|[u'Tim Robbins', ...|\n",
      "|        9.2|       The Godfather|             R|    Crime|     175|[u'Marlon Brando'...|\n",
      "|        9.1|The Godfather: Pa...|             R|    Crime|     200|[u'Al Pacino', u'...|\n",
      "|          9|     The Dark Knight|         PG-13|   Action|     152|[u'Christian Bale...|\n",
      "|        8.9|        Pulp Fiction|             R|    Crime|     154|[u'John Travolta'...|\n",
      "|        8.9|        12 Angry Men|     NOT RATED|    Drama|      96|[u'Henry Fonda', ...|\n",
      "|        8.9|The Good, the Bad...|     NOT RATED|  Western|     161|[u'Clint Eastwood...|\n",
      "|        8.9|The Lord of the R...|         PG-13|Adventure|     201|[u'Elijah Wood', ...|\n",
      "|        8.9|    Schindler's List|             R|Biography|     195|[u'Liam Neeson', ...|\n",
      "|        8.9|          Fight Club|             R|    Drama|     139|[u'Brad Pitt', u'...|\n",
      "|        8.8|The Lord of the R...|         PG-13|Adventure|     178|[u'Elijah Wood', ...|\n",
      "|        8.8|           Inception|         PG-13|   Action|     148|[u'Leonardo DiCap...|\n",
      "|        8.8|Star Wars: Episod...|            PG|   Action|     124|[u'Mark Hamill', ...|\n",
      "|        8.8|        Forrest Gump|         PG-13|    Drama|     142|[u'Tom Hanks', u'...|\n",
      "|        8.8|The Lord of the R...|         PG-13|Adventure|     179|[u'Elijah Wood', ...|\n",
      "|        8.7|        Interstellar|         PG-13|Adventure|     169|[u'Matthew McCona...|\n",
      "|        8.7|One Flew Over the...|             R|    Drama|     133|[u'Jack Nicholson...|\n",
      "|        8.7|       Seven Samurai|       UNRATED|    Drama|     207|[u'Toshir\\xf4 Mif...|\n",
      "|        8.7|          Goodfellas|             R|Biography|     146|[u'Robert De Niro...|\n",
      "|        8.7|           Star Wars|            PG|   Action|     121|[u'Mark Hamill', ...|\n",
      "+-----------+--------------------+--------------+---------+--------+--------------------+\n"
     ]
    }
   ],
   "source": [
    "spark.sql(\"select * from f3\").show()"
   ],
   "metadata": {
    "collapsed": false,
    "ExecuteTime": {
     "end_time": "2023-09-22T06:55:36.448160618Z",
     "start_time": "2023-09-22T06:55:35.567030854Z"
    }
   },
   "id": "58737e1d0c8968fb"
  },
  {
   "cell_type": "code",
   "execution_count": 29,
   "outputs": [
    {
     "name": "stdout",
     "output_type": "stream",
     "text": [
      "+--------------------+\n",
      "|               title|\n",
      "+--------------------+\n",
      "|The Shawshank Red...|\n",
      "|       The Godfather|\n",
      "|The Godfather: Pa...|\n",
      "|     The Dark Knight|\n",
      "|        Pulp Fiction|\n",
      "|        12 Angry Men|\n",
      "|The Good, the Bad...|\n",
      "|The Lord of the R...|\n",
      "|    Schindler's List|\n",
      "|          Fight Club|\n",
      "|The Lord of the R...|\n",
      "|           Inception|\n",
      "|Star Wars: Episod...|\n",
      "|        Forrest Gump|\n",
      "|The Lord of the R...|\n",
      "|        Interstellar|\n",
      "|One Flew Over the...|\n",
      "|       Seven Samurai|\n",
      "|          Goodfellas|\n",
      "|           Star Wars|\n",
      "+--------------------+\n"
     ]
    }
   ],
   "source": [
    "spark.sql(\"select title from f3\").show()"
   ],
   "metadata": {
    "collapsed": false,
    "ExecuteTime": {
     "end_time": "2023-09-22T06:57:13.667638246Z",
     "start_time": "2023-09-22T06:57:13.124070439Z"
    }
   },
   "id": "591f0bdc901fe99d"
  },
  {
   "cell_type": "code",
   "execution_count": 30,
   "outputs": [
    {
     "name": "stderr",
     "output_type": "stream",
     "text": [
      "[Stage 12:>                                                         (0 + 1) / 1]\r"
     ]
    },
    {
     "name": "stdout",
     "output_type": "stream",
     "text": [
      "+------------+\n",
      "|count(title)|\n",
      "+------------+\n",
      "|         979|\n",
      "+------------+\n"
     ]
    },
    {
     "name": "stderr",
     "output_type": "stream",
     "text": [
      "                                                                                \r"
     ]
    }
   ],
   "source": [
    "spark.sql(\"select count(title) from f3\").show()"
   ],
   "metadata": {
    "collapsed": false,
    "ExecuteTime": {
     "end_time": "2023-09-22T07:01:06.081978877Z",
     "start_time": "2023-09-22T07:01:01.643457283Z"
    }
   },
   "id": "a3089d237f4387f0"
  },
  {
   "cell_type": "code",
   "execution_count": 32,
   "outputs": [
    {
     "name": "stdout",
     "output_type": "stream",
     "text": [
      "+-----------+--------------------+--------+\n",
      "|star_rating|               title|duration|\n",
      "+-----------+--------------------+--------+\n",
      "|        9.3|The Shawshank Red...|     142|\n",
      "|        9.2|       The Godfather|     175|\n",
      "|        9.1|The Godfather: Pa...|     200|\n",
      "|        8.9|        Pulp Fiction|     154|\n",
      "|        8.9|    Schindler's List|     195|\n",
      "|        8.9|          Fight Club|     139|\n",
      "|        8.7|One Flew Over the...|     133|\n",
      "|        8.7|          Goodfellas|     146|\n",
      "|        8.7|          The Matrix|     136|\n",
      "|        8.7|         City of God|     130|\n",
      "|        8.7|  The Usual Suspects|     106|\n",
      "|        8.7|               Se7en|     127|\n",
      "|        8.6|The Silence of th...|     118|\n",
      "|        8.6|Leon: The Profess...|     110|\n",
      "|        8.6|    The Intouchables|     112|\n",
      "|        8.6|            Whiplash|     107|\n",
      "|        8.6|  American History X|     119|\n",
      "|        8.6| Saving Private Ryan|     169|\n",
      "|        8.6|              Psycho|     109|\n",
      "|        8.5|      The Green Mile|     189|\n",
      "+-----------+--------------------+--------+\n"
     ]
    }
   ],
   "source": [
    "spark.sql(\"select star_rating,title,duration from f3 where content_rating='R'\").show()"
   ],
   "metadata": {
    "collapsed": false,
    "ExecuteTime": {
     "end_time": "2023-09-22T07:07:05.058335756Z",
     "start_time": "2023-09-22T07:07:04.176921024Z"
    }
   },
   "id": "9c4fc900c153903e"
  },
  {
   "cell_type": "code",
   "execution_count": null,
   "outputs": [],
   "source": [],
   "metadata": {
    "collapsed": false
   },
   "id": "8be01b8a30bd4f1a"
  }
 ],
 "metadata": {
  "kernelspec": {
   "display_name": "Python 3",
   "language": "python",
   "name": "python3"
  },
  "language_info": {
   "codemirror_mode": {
    "name": "ipython",
    "version": 2
   },
   "file_extension": ".py",
   "mimetype": "text/x-python",
   "name": "python",
   "nbconvert_exporter": "python",
   "pygments_lexer": "ipython2",
   "version": "2.7.6"
  }
 },
 "nbformat": 4,
 "nbformat_minor": 5
}
