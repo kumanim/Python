{
 "cells": [
  {
   "cell_type": "code",
   "execution_count": 33,
   "id": "initial_id",
   "metadata": {
    "collapsed": true,
    "ExecuteTime": {
     "end_time": "2023-09-22T10:41:55.147001850Z",
     "start_time": "2023-09-22T10:41:53.785322429Z"
    }
   },
   "outputs": [],
   "source": [
    "import pandas as pd\n",
    "import pyspark"
   ]
  },
  {
   "cell_type": "code",
   "execution_count": 34,
   "outputs": [
    {
     "name": "stdout",
     "output_type": "stream",
     "text": [
      "<class 'pandas.core.frame.DataFrame'>\n"
     ]
    }
   ],
   "source": [
    "p1=pd.read_csv('project_data.csv')\n",
    "print(type(p1))"
   ],
   "metadata": {
    "collapsed": false,
    "ExecuteTime": {
     "end_time": "2023-09-22T10:41:56.599114450Z",
     "start_time": "2023-09-22T10:41:53.823729563Z"
    }
   },
   "id": "e4bcd561aeee475b"
  },
  {
   "cell_type": "code",
   "execution_count": 35,
   "outputs": [],
   "source": [
    "\n",
    "from pyspark.sql import SparkSession\n",
    "\n",
    "spark = SparkSession.builder.appName('sqlonspark').getOrCreate()  #sparksession is a function we import from spark has builder app name , if the session exist it will run or new session will "
   ],
   "metadata": {
    "collapsed": false,
    "ExecuteTime": {
     "end_time": "2023-09-22T10:41:56.643948854Z",
     "start_time": "2023-09-22T10:41:53.935414197Z"
    }
   },
   "id": "decddf7f79375bcf"
  },
  {
   "cell_type": "code",
   "execution_count": 36,
   "outputs": [
    {
     "data": {
      "text/plain": "<pyspark.sql.session.SparkSession at 0x7fbbcde8b610>",
      "text/html": "\n            <div>\n                <p><b>SparkSession - in-memory</b></p>\n                \n        <div>\n            <p><b>SparkContext</b></p>\n\n            <p><a href=\"http://ip-172-31-34-95.ap-south-1.compute.internal:4040\">Spark UI</a></p>\n\n            <dl>\n              <dt>Version</dt>\n                <dd><code>v3.4.1</code></dd>\n              <dt>Master</dt>\n                <dd><code>local[*]</code></dd>\n              <dt>AppName</dt>\n                <dd><code>sqlonspark</code></dd>\n            </dl>\n        </div>\n        \n            </div>\n        "
     },
     "execution_count": 36,
     "metadata": {},
     "output_type": "execute_result"
    }
   ],
   "source": [
    "spark"
   ],
   "metadata": {
    "collapsed": false,
    "ExecuteTime": {
     "end_time": "2023-09-22T10:41:56.678275501Z",
     "start_time": "2023-09-22T10:41:53.936084867Z"
    }
   },
   "id": "8cd0f66a93ffb796"
  },
  {
   "cell_type": "code",
   "execution_count": 37,
   "outputs": [],
   "source": [
    "f1=spark.read.csv('project_data.csv')"
   ],
   "metadata": {
    "collapsed": false,
    "ExecuteTime": {
     "end_time": "2023-09-22T10:41:56.749470262Z",
     "start_time": "2023-09-22T10:41:53.936900618Z"
    }
   },
   "id": "bdb686f5f6a2c255"
  },
  {
   "cell_type": "code",
   "execution_count": 38,
   "outputs": [
    {
     "data": {
      "text/plain": "DataFrame[_c0: string, _c1: string, _c2: string, _c3: string, _c4: string, _c5: string, _c6: string, _c7: string, _c8: string, _c9: string, _c10: string, _c11: string]"
     },
     "execution_count": 38,
     "metadata": {},
     "output_type": "execute_result"
    }
   ],
   "source": [
    "f1"
   ],
   "metadata": {
    "collapsed": false,
    "ExecuteTime": {
     "end_time": "2023-09-22T10:41:56.751122615Z",
     "start_time": "2023-09-22T10:41:54.623262150Z"
    }
   },
   "id": "713d1d5489ed0970"
  },
  {
   "cell_type": "code",
   "execution_count": 39,
   "outputs": [
    {
     "name": "stdout",
     "output_type": "stream",
     "text": [
      "+-----------+--------------+-----------------+--------------+-------------+-------------+-------+----------------+---------------+----------+-----+---------+\n",
      "|        _c0|           _c1|              _c2|           _c3|          _c4|          _c5|    _c6|             _c7|            _c8|       _c9| _c10|     _c11|\n",
      "+-----------+--------------+-----------------+--------------+-------------+-------------+-------+----------------+---------------+----------+-----+---------+\n",
      "|customer_id|year_of_birth |educational_level|marital_status|annual_income|purhcase_date|recency|online_purchases|store_purchases|complaints|calls|intercoms|\n",
      "|   20201701|          1982|       Graduation|        Single|        58138|     9/4/2012|     58|               8|              4|         0|    3|       11|\n",
      "|   20201702|          1950|       Graduation|       Married|        46344|     3/8/2014|     38|               1|              2|         0|    3|       11|\n",
      "|   20201703|          1965|       Graduation|      Divorced|        71613|    8/21/2013|     26|               8|             10|         0|    3|       11|\n",
      "|   20201704|          1984|       Graduation|  Relationship|        26646|    2/10/2014|     26|               2|              4|         0|    3|       11|\n",
      "|   20201705|          1981|              PhD|       Widowed|        58293|    1/19/2014|     94|               5|              6|         0|    3|       11|\n",
      "|   20201706|          1967|           Master|  Relationship|        62000|     9/9/2013|     16|               6|             10|         5|    3|       11|\n",
      "|   20201707|          1971|       Graduation|      Divorced|        55635|   11/13/2012|     34|               7|              7|         0|    3|       11|\n",
      "|   20201708|          1985|              PhD|       Married|        33454|     5/8/2013|     32|               4|              4|         0|    3|       11|\n",
      "|   20201709|          1974|              PhD|       Widowed|        30351|     6/6/2013|     19|               3|              2|         3|    3|       11|\n",
      "|   20201710|          1950|              PhD|        Single|         5648|    3/13/2014|     68|               1|              0|         5|    3|       11|\n",
      "|   20201711|          1983|       Graduation|        Single|         null|   11/15/2013|     11|               1|              2|         0|    3|       11|\n",
      "|   20201712|          1976|            Basic|  Relationship|         7500|   11/13/2012|     59|               2|              3|         6|    3|       11|\n",
      "|   20201713|          1959|       Graduation|      Divorced|        63033|   11/15/2013|     82|               3|              8|         0|    3|       11|\n",
      "|   20201714|          1952|           Master|        Single|        59354|   11/15/2013|     53|               6|              5|         0|    3|       11|\n",
      "|   20201715|          1987|       Graduation|       Married|        17323|   10/10/2012|     38|               1|              3|         0|    3|       11|\n",
      "|   20201716|          1960|              PhD|  Relationship|        82800|   11/24/2012|     23|               7|             12|         0|    3|       11|\n",
      "|   20201717|          2000|       Graduation|       Married|        41850|   12/24/2012|     51|               3|              3|         7|    3|       11|\n",
      "|   20201718|          1970|       Graduation|  Relationship|        37760|    8/31/2012|     20|               4|              6|         0|    3|       11|\n",
      "|   20201719|          1980|           Master|        Single|        76995|    3/28/2013|     91|              11|              9|         4|    3|       11|\n",
      "+-----------+--------------+-----------------+--------------+-------------+-------------+-------+----------------+---------------+----------+-----+---------+\n"
     ]
    }
   ],
   "source": [
    "f1.show()"
   ],
   "metadata": {
    "collapsed": false,
    "ExecuteTime": {
     "end_time": "2023-09-22T10:41:56.838328479Z",
     "start_time": "2023-09-22T10:41:54.675631290Z"
    }
   },
   "id": "7500ff7412fcb528"
  },
  {
   "cell_type": "code",
   "execution_count": 40,
   "outputs": [
    {
     "name": "stdout",
     "output_type": "stream",
     "text": [
      "+-----------+--------------+-----------------+--------------+-------------+-------------+-------+----------------+---------------+----------+-----+---------+\n",
      "|customer_id|year_of_birth |educational_level|marital_status|annual_income|purhcase_date|recency|online_purchases|store_purchases|complaints|calls|intercoms|\n",
      "+-----------+--------------+-----------------+--------------+-------------+-------------+-------+----------------+---------------+----------+-----+---------+\n",
      "|   20201701|          1982|       Graduation|        Single|        58138|     9/4/2012|     58|               8|              4|         0|    3|       11|\n",
      "|   20201702|          1950|       Graduation|       Married|        46344|     3/8/2014|     38|               1|              2|         0|    3|       11|\n",
      "|   20201703|          1965|       Graduation|      Divorced|        71613|    8/21/2013|     26|               8|             10|         0|    3|       11|\n",
      "|   20201704|          1984|       Graduation|  Relationship|        26646|    2/10/2014|     26|               2|              4|         0|    3|       11|\n",
      "|   20201705|          1981|              PhD|       Widowed|        58293|    1/19/2014|     94|               5|              6|         0|    3|       11|\n",
      "|   20201706|          1967|           Master|  Relationship|        62000|     9/9/2013|     16|               6|             10|         5|    3|       11|\n",
      "|   20201707|          1971|       Graduation|      Divorced|        55635|   11/13/2012|     34|               7|              7|         0|    3|       11|\n",
      "|   20201708|          1985|              PhD|       Married|        33454|     5/8/2013|     32|               4|              4|         0|    3|       11|\n",
      "|   20201709|          1974|              PhD|       Widowed|        30351|     6/6/2013|     19|               3|              2|         3|    3|       11|\n",
      "|   20201710|          1950|              PhD|        Single|         5648|    3/13/2014|     68|               1|              0|         5|    3|       11|\n",
      "|   20201711|          1983|       Graduation|        Single|         null|   11/15/2013|     11|               1|              2|         0|    3|       11|\n",
      "|   20201712|          1976|            Basic|  Relationship|         7500|   11/13/2012|     59|               2|              3|         6|    3|       11|\n",
      "|   20201713|          1959|       Graduation|      Divorced|        63033|   11/15/2013|     82|               3|              8|         0|    3|       11|\n",
      "|   20201714|          1952|           Master|        Single|        59354|   11/15/2013|     53|               6|              5|         0|    3|       11|\n",
      "|   20201715|          1987|       Graduation|       Married|        17323|   10/10/2012|     38|               1|              3|         0|    3|       11|\n",
      "|   20201716|          1960|              PhD|  Relationship|        82800|   11/24/2012|     23|               7|             12|         0|    3|       11|\n",
      "|   20201717|          2000|       Graduation|       Married|        41850|   12/24/2012|     51|               3|              3|         7|    3|       11|\n",
      "|   20201718|          1970|       Graduation|  Relationship|        37760|    8/31/2012|     20|               4|              6|         0|    3|       11|\n",
      "|   20201719|          1980|           Master|        Single|        76995|    3/28/2013|     91|              11|              9|         4|    3|       11|\n",
      "|   20201720|          1998|      High School|       Married|        33812|    11/3/2012|     86|               2|              3|         0|    3|       11|\n",
      "+-----------+--------------+-----------------+--------------+-------------+-------------+-------+----------------+---------------+----------+-----+---------+\n"
     ]
    }
   ],
   "source": [
    "f1=spark.read.option('header','true').csv('project_data.csv') #read file with option\n",
    "f1.show()"
   ],
   "metadata": {
    "collapsed": false,
    "ExecuteTime": {
     "end_time": "2023-09-22T10:41:57.528364903Z",
     "start_time": "2023-09-22T10:41:55.074212957Z"
    }
   },
   "id": "adc188587e88679"
  },
  {
   "cell_type": "code",
   "execution_count": 41,
   "outputs": [],
   "source": [
    "f1=f1.withColumn(\"annual_income\",f1.annual_income.cast(\"float\"))"
   ],
   "metadata": {
    "collapsed": false,
    "ExecuteTime": {
     "end_time": "2023-09-22T10:41:57.528983251Z",
     "start_time": "2023-09-22T10:41:56.344158681Z"
    }
   },
   "id": "2db941c7ba8e611"
  },
  {
   "cell_type": "code",
   "execution_count": 42,
   "outputs": [
    {
     "name": "stdout",
     "output_type": "stream",
     "text": [
      "<class 'pyspark.sql.dataframe.DataFrame'>\n"
     ]
    }
   ],
   "source": [
    "print(type(f1))"
   ],
   "metadata": {
    "collapsed": false,
    "ExecuteTime": {
     "end_time": "2023-09-22T10:41:57.529600720Z",
     "start_time": "2023-09-22T10:41:56.417990829Z"
    }
   },
   "id": "21ed3bdd282e847"
  },
  {
   "cell_type": "code",
   "execution_count": 43,
   "outputs": [
    {
     "data": {
      "text/plain": "[Row(customer_id='20201701', year_of_birth ='1982', educational_level='Graduation', marital_status='Single', annual_income=58138.0, purhcase_date='9/4/2012', recency='58', online_purchases='8', store_purchases='4', complaints='0', calls='3', intercoms='11'),\n Row(customer_id='20201702', year_of_birth ='1950', educational_level='Graduation', marital_status='Married', annual_income=46344.0, purhcase_date='3/8/2014', recency='38', online_purchases='1', store_purchases='2', complaints='0', calls='3', intercoms='11'),\n Row(customer_id='20201703', year_of_birth ='1965', educational_level='Graduation', marital_status='Divorced', annual_income=71613.0, purhcase_date='8/21/2013', recency='26', online_purchases='8', store_purchases='10', complaints='0', calls='3', intercoms='11'),\n Row(customer_id='20201704', year_of_birth ='1984', educational_level='Graduation', marital_status='Relationship', annual_income=26646.0, purhcase_date='2/10/2014', recency='26', online_purchases='2', store_purchases='4', complaints='0', calls='3', intercoms='11'),\n Row(customer_id='20201705', year_of_birth ='1981', educational_level='PhD', marital_status='Widowed', annual_income=58293.0, purhcase_date='1/19/2014', recency='94', online_purchases='5', store_purchases='6', complaints='0', calls='3', intercoms='11')]"
     },
     "execution_count": 43,
     "metadata": {},
     "output_type": "execute_result"
    }
   ],
   "source": [
    "f1.head(5)"
   ],
   "metadata": {
    "collapsed": false,
    "ExecuteTime": {
     "end_time": "2023-09-22T10:41:57.758792559Z",
     "start_time": "2023-09-22T10:41:56.459490036Z"
    }
   },
   "id": "6fc408d948893b61"
  },
  {
   "cell_type": "code",
   "execution_count": 44,
   "outputs": [],
   "source": [
    "f1.createOrReplaceTempView(\"f2\")"
   ],
   "metadata": {
    "collapsed": false,
    "ExecuteTime": {
     "end_time": "2023-09-22T10:41:57.831928177Z",
     "start_time": "2023-09-22T10:41:56.953269759Z"
    }
   },
   "id": "49fa8b0d04dd99d"
  },
  {
   "cell_type": "code",
   "execution_count": 45,
   "outputs": [
    {
     "name": "stdout",
     "output_type": "stream",
     "text": [
      "+-----------+--------------+-----------------+--------------+-------------+-------------+-------+----------------+---------------+----------+-----+---------+\n",
      "|customer_id|year_of_birth |educational_level|marital_status|annual_income|purhcase_date|recency|online_purchases|store_purchases|complaints|calls|intercoms|\n",
      "+-----------+--------------+-----------------+--------------+-------------+-------------+-------+----------------+---------------+----------+-----+---------+\n",
      "|   20201701|          1982|       Graduation|        Single|      58138.0|     9/4/2012|     58|               8|              4|         0|    3|       11|\n",
      "|   20201702|          1950|       Graduation|       Married|      46344.0|     3/8/2014|     38|               1|              2|         0|    3|       11|\n",
      "|   20201703|          1965|       Graduation|      Divorced|      71613.0|    8/21/2013|     26|               8|             10|         0|    3|       11|\n",
      "|   20201704|          1984|       Graduation|  Relationship|      26646.0|    2/10/2014|     26|               2|              4|         0|    3|       11|\n",
      "|   20201705|          1981|              PhD|       Widowed|      58293.0|    1/19/2014|     94|               5|              6|         0|    3|       11|\n",
      "|   20201706|          1967|           Master|  Relationship|      62000.0|     9/9/2013|     16|               6|             10|         5|    3|       11|\n",
      "|   20201707|          1971|       Graduation|      Divorced|      55635.0|   11/13/2012|     34|               7|              7|         0|    3|       11|\n",
      "|   20201708|          1985|              PhD|       Married|      33454.0|     5/8/2013|     32|               4|              4|         0|    3|       11|\n",
      "|   20201709|          1974|              PhD|       Widowed|      30351.0|     6/6/2013|     19|               3|              2|         3|    3|       11|\n",
      "|   20201710|          1950|              PhD|        Single|       5648.0|    3/13/2014|     68|               1|              0|         5|    3|       11|\n",
      "|   20201711|          1983|       Graduation|        Single|         null|   11/15/2013|     11|               1|              2|         0|    3|       11|\n",
      "|   20201712|          1976|            Basic|  Relationship|       7500.0|   11/13/2012|     59|               2|              3|         6|    3|       11|\n",
      "|   20201713|          1959|       Graduation|      Divorced|      63033.0|   11/15/2013|     82|               3|              8|         0|    3|       11|\n",
      "|   20201714|          1952|           Master|        Single|      59354.0|   11/15/2013|     53|               6|              5|         0|    3|       11|\n",
      "|   20201715|          1987|       Graduation|       Married|      17323.0|   10/10/2012|     38|               1|              3|         0|    3|       11|\n",
      "|   20201716|          1960|              PhD|  Relationship|      82800.0|   11/24/2012|     23|               7|             12|         0|    3|       11|\n",
      "|   20201717|          2000|       Graduation|       Married|      41850.0|   12/24/2012|     51|               3|              3|         7|    3|       11|\n",
      "|   20201718|          1970|       Graduation|  Relationship|      37760.0|    8/31/2012|     20|               4|              6|         0|    3|       11|\n",
      "|   20201719|          1980|           Master|        Single|      76995.0|    3/28/2013|     91|              11|              9|         4|    3|       11|\n",
      "|   20201720|          1998|      High School|       Married|      33812.0|    11/3/2012|     86|               2|              3|         0|    3|       11|\n",
      "+-----------+--------------+-----------------+--------------+-------------+-------------+-------+----------------+---------------+----------+-----+---------+\n"
     ]
    }
   ],
   "source": [
    "spark.sql(\"select * from f2\").show()"
   ],
   "metadata": {
    "collapsed": false,
    "ExecuteTime": {
     "end_time": "2023-09-22T10:41:58.464831456Z",
     "start_time": "2023-09-22T10:41:57.146033531Z"
    }
   },
   "id": "16304fa3a4fc4d71"
  },
  {
   "cell_type": "code",
   "execution_count": 57,
   "outputs": [
    {
     "name": "stdout",
     "output_type": "stream",
     "text": [
      "+-----------------+\n",
      "|educational_level|\n",
      "+-----------------+\n",
      "|       Graduation|\n",
      "|       Graduation|\n",
      "|       Graduation|\n",
      "|       Graduation|\n",
      "|              PhD|\n",
      "|           Master|\n",
      "|       Graduation|\n",
      "|              PhD|\n",
      "|              PhD|\n",
      "|              PhD|\n",
      "|       Graduation|\n",
      "|            Basic|\n",
      "|       Graduation|\n",
      "|           Master|\n",
      "|       Graduation|\n",
      "|              PhD|\n",
      "|       Graduation|\n",
      "|       Graduation|\n",
      "|           Master|\n",
      "|      High School|\n",
      "+-----------------+\n"
     ]
    }
   ],
   "source": [
    "spark.sql(\"select educational_level from f2\").show()"
   ],
   "metadata": {
    "collapsed": false,
    "ExecuteTime": {
     "end_time": "2023-09-22T10:43:53.674569039Z",
     "start_time": "2023-09-22T10:43:53.464644851Z"
    }
   },
   "id": "4390d0a9c8e57a4f"
  },
  {
   "cell_type": "code",
   "execution_count": 47,
   "outputs": [
    {
     "name": "stdout",
     "output_type": "stream",
     "text": [
      "+------------------+\n",
      "|count(customer_id)|\n",
      "+------------------+\n",
      "|               499|\n",
      "+------------------+\n"
     ]
    }
   ],
   "source": [
    "spark.sql(\"select count(customer_id) from f2\").show()"
   ],
   "metadata": {
    "collapsed": false,
    "ExecuteTime": {
     "end_time": "2023-09-22T10:41:59.461651689Z",
     "start_time": "2023-09-22T10:41:58.072608197Z"
    }
   },
   "id": "e0abefbadc967594"
  },
  {
   "cell_type": "code",
   "execution_count": 48,
   "outputs": [
    {
     "name": "stdout",
     "output_type": "stream",
     "text": [
      "+-----------------+-------------+\n",
      "|educational_level|annual_income|\n",
      "+-----------------+-------------+\n",
      "|       Graduation|      58138.0|\n",
      "|              PhD|       5648.0|\n",
      "|       Graduation|         null|\n",
      "|           Master|      59354.0|\n",
      "|           Master|      76995.0|\n",
      "|       Graduation|         null|\n",
      "|       Graduation|      38360.0|\n",
      "|           Master|      38620.0|\n",
      "|           Master|      20559.0|\n",
      "|       Graduation|      65486.0|\n",
      "|           Master|      79143.0|\n",
      "|       Graduation|      66373.0|\n",
      "|           Master|      75777.0|\n",
      "|       Graduation|      66653.0|\n",
      "|           Master|      66991.0|\n",
      "|      High School|         null|\n",
      "|       Graduation|      28332.0|\n",
      "|       Graduation|      40246.0|\n",
      "|       Graduation|      81361.0|\n",
      "|       Graduation|      29440.0|\n",
      "+-----------------+-------------+\n"
     ]
    }
   ],
   "source": [
    "spark.sql(\"select educational_level,annual_income from f2 where marital_status='Single'\").show()"
   ],
   "metadata": {
    "collapsed": false,
    "ExecuteTime": {
     "end_time": "2023-09-22T10:42:00.015274164Z",
     "start_time": "2023-09-22T10:41:58.637202855Z"
    }
   },
   "id": "58bf8c5ce3fb358a"
  },
  {
   "cell_type": "code",
   "execution_count": 61,
   "outputs": [
    {
     "name": "stdout",
     "output_type": "stream",
     "text": [
      "+----------------+\n",
      "|online_purchases|\n",
      "+----------------+\n",
      "|               8|\n",
      "|               8|\n",
      "|               5|\n",
      "|               6|\n",
      "|               7|\n",
      "|               3|\n",
      "|               6|\n",
      "|               7|\n",
      "|              11|\n",
      "|               2|\n",
      "|               6|\n",
      "|               5|\n",
      "|               6|\n",
      "|               3|\n",
      "|               5|\n",
      "|               8|\n",
      "|               2|\n",
      "|               5|\n",
      "|               4|\n",
      "|               6|\n",
      "+----------------+\n"
     ]
    }
   ],
   "source": [
    "spark.sql(\"select online_purchases from f2 where annual_income>'50000'\").show()"
   ],
   "metadata": {
    "collapsed": false,
    "ExecuteTime": {
     "end_time": "2023-09-22T10:51:23.047390040Z",
     "start_time": "2023-09-22T10:51:22.480304679Z"
    }
   },
   "id": "349895be240cf968"
  },
  {
   "cell_type": "code",
   "execution_count": 50,
   "outputs": [
    {
     "name": "stdout",
     "output_type": "stream",
     "text": [
      "+-------------+\n",
      "|annual_income|\n",
      "+-------------+\n",
      "|      58293.0|\n",
      "|      55635.0|\n",
      "|      63033.0|\n",
      "|      59354.0|\n",
      "|      37760.0|\n",
      "|      76995.0|\n",
      "|      37040.0|\n",
      "|      58607.0|\n",
      "|      64500.0|\n",
      "|      40689.0|\n",
      "|      46610.0|\n",
      "|      68657.0|\n",
      "|      48948.0|\n",
      "|      80011.0|\n",
      "|      79941.0|\n",
      "|      82582.0|\n",
      "|      55954.0|\n",
      "|      67680.0|\n",
      "|      74854.0|\n",
      "|      66991.0|\n",
      "+-------------+\n"
     ]
    }
   ],
   "source": [
    "spark.sql(\"select annual_income from f2 where store_purchases>='5'\").show()"
   ],
   "metadata": {
    "collapsed": false,
    "ExecuteTime": {
     "end_time": "2023-09-22T10:42:01.283058119Z",
     "start_time": "2023-09-22T10:41:59.771465071Z"
    }
   },
   "id": "b8f7c642c9aa173a"
  },
  {
   "cell_type": "code",
   "execution_count": 51,
   "outputs": [
    {
     "name": "stdout",
     "output_type": "stream",
     "text": [
      "+------------------+\n",
      "|max(annual_income)|\n",
      "+------------------+\n",
      "|          157243.0|\n",
      "+------------------+\n"
     ]
    }
   ],
   "source": [
    "spark.sql(\"select max(annual_income) from f2\").show()"
   ],
   "metadata": {
    "collapsed": false,
    "ExecuteTime": {
     "end_time": "2023-09-22T10:42:02.257900056Z",
     "start_time": "2023-09-22T10:42:00.285794859Z"
    }
   },
   "id": "2d61b8c0a42028cc"
  },
  {
   "cell_type": "code",
   "execution_count": 52,
   "outputs": [
    {
     "name": "stdout",
     "output_type": "stream",
     "text": [
      "+--------+\n",
      "|count(1)|\n",
      "+--------+\n",
      "|      13|\n",
      "+--------+\n"
     ]
    }
   ],
   "source": [
    "spark.sql(\"SELECT COUNT(*) FROM f2 WHERE annual_income IS NULL\").show()"
   ],
   "metadata": {
    "collapsed": false,
    "ExecuteTime": {
     "end_time": "2023-09-22T10:42:02.849181655Z",
     "start_time": "2023-09-22T10:42:01.101128517Z"
    }
   },
   "id": "ffc46377486ea01a"
  },
  {
   "cell_type": "code",
   "execution_count": 53,
   "outputs": [
    {
     "name": "stdout",
     "output_type": "stream",
     "text": [
      "+------------------+\n",
      "|min(annual_income)|\n",
      "+------------------+\n",
      "|            2447.0|\n",
      "+------------------+\n"
     ]
    }
   ],
   "source": [
    "spark.sql(\"select min(annual_income) from f2\").show()"
   ],
   "metadata": {
    "collapsed": false,
    "ExecuteTime": {
     "end_time": "2023-09-22T10:42:03.770536118Z",
     "start_time": "2023-09-22T10:42:02.073115065Z"
    }
   },
   "id": "cca68800a1589af3"
  },
  {
   "cell_type": "code",
   "execution_count": 59,
   "outputs": [
    {
     "name": "stdout",
     "output_type": "stream",
     "text": [
      "+-------------+\n",
      "|annual_income|\n",
      "+-------------+\n",
      "|     157243.0|\n",
      "|     102692.0|\n",
      "|     102160.0|\n",
      "|     101970.0|\n",
      "|      93027.0|\n",
      "|      92910.0|\n",
      "|      92859.0|\n",
      "|      91065.0|\n",
      "|      90765.0|\n",
      "|      89572.0|\n",
      "|      89058.0|\n",
      "|      88194.0|\n",
      "|      88193.0|\n",
      "|      86718.0|\n",
      "|      86164.0|\n",
      "|      86111.0|\n",
      "|      86037.0|\n",
      "|      85693.0|\n",
      "|      85503.0|\n",
      "|      85317.0|\n",
      "+-------------+\n"
     ]
    }
   ],
   "source": [
    "spark.sql(\"select annual_income from f2 order by annual_income DESC\").show()"
   ],
   "metadata": {
    "collapsed": false,
    "ExecuteTime": {
     "end_time": "2023-09-22T10:46:35.560767474Z",
     "start_time": "2023-09-22T10:46:35.074818897Z"
    }
   },
   "id": "e10fbed340048efc"
  },
  {
   "cell_type": "code",
   "execution_count": 66,
   "outputs": [
    {
     "name": "stdout",
     "output_type": "stream",
     "text": [
      "+-----------------+\n",
      "|       avg_salary|\n",
      "+-----------------+\n",
      "|51454.50411522634|\n",
      "+-----------------+\n"
     ]
    }
   ],
   "source": [
    "spark.sql(\"SELECT AVG(annual_income) AS avg_salary FROM f2\").show()"
   ],
   "metadata": {
    "collapsed": false,
    "ExecuteTime": {
     "end_time": "2023-09-22T12:21:10.677208541Z",
     "start_time": "2023-09-22T12:21:09.930232275Z"
    }
   },
   "id": "720f7e2919cc61c4"
  },
  {
   "cell_type": "code",
   "execution_count": 62,
   "outputs": [
    {
     "name": "stdout",
     "output_type": "stream",
     "text": [
      "+-----------------+-----+\n",
      "|educational_level|count|\n",
      "+-----------------+-----+\n",
      "|      High School|   40|\n",
      "|              PhD|  114|\n",
      "|           Master|   81|\n",
      "|       Graduation|  257|\n",
      "|            Basic|    7|\n",
      "+-----------------+-----+\n"
     ]
    }
   ],
   "source": [
    "spark.sql(\"SELECT educational_level, COUNT(*) AS count FROM f2 GROUP BY educational_level\").show()"
   ],
   "metadata": {
    "collapsed": false,
    "ExecuteTime": {
     "end_time": "2023-09-22T11:00:12.291166324Z",
     "start_time": "2023-09-22T11:00:10.661363298Z"
    }
   },
   "id": "50a033aeda9b9e1f"
  },
  {
   "cell_type": "code",
   "execution_count": 64,
   "outputs": [
    {
     "name": "stdout",
     "output_type": "stream",
     "text": [
      "+--------------+-----+\n",
      "|marital_status|count|\n",
      "+--------------+-----+\n",
      "|  Relationship|  118|\n",
      "|       Married|  125|\n",
      "|         Widow|    7|\n",
      "|      Divorced|   87|\n",
      "|       Widowed|   54|\n",
      "|        Single|  108|\n",
      "+--------------+-----+\n"
     ]
    }
   ],
   "source": [
    "spark.sql(\"SELECT marital_status, COUNT(*) AS count FROM f2 GROUP BY marital_status\").show()"
   ],
   "metadata": {
    "collapsed": false,
    "ExecuteTime": {
     "end_time": "2023-09-22T11:02:31.477779612Z",
     "start_time": "2023-09-22T11:02:30.807122382Z"
    }
   },
   "id": "22fce71717ca4c70"
  },
  {
   "cell_type": "code",
   "execution_count": 65,
   "outputs": [
    {
     "name": "stdout",
     "output_type": "stream",
     "text": [
      "+-----------------+--------------+-----+\n",
      "|educational_level|marital_status|count|\n",
      "+-----------------+--------------+-----+\n",
      "|      High School|      Divorced|    3|\n",
      "|      High School|         Widow|    1|\n",
      "|              PhD|       Widowed|   19|\n",
      "|              PhD|        Single|   19|\n",
      "|           Master|       Married|   19|\n",
      "|      High School|       Widowed|    2|\n",
      "|              PhD|       Married|   24|\n",
      "|            Basic|        Single|    1|\n",
      "|       Graduation|       Widowed|   25|\n",
      "|              PhD|      Divorced|   20|\n",
      "|            Basic|      Divorced|    3|\n",
      "|      High School|        Single|    6|\n",
      "|           Master|       Widowed|    8|\n",
      "|       Graduation|        Single|   61|\n",
      "|           Master|  Relationship|   20|\n",
      "|       Graduation|  Relationship|   51|\n",
      "|              PhD|         Widow|    1|\n",
      "|      High School|       Married|   15|\n",
      "|       Graduation|      Divorced|   49|\n",
      "|              PhD|  Relationship|   31|\n",
      "+-----------------+--------------+-----+\n"
     ]
    }
   ],
   "source": [
    "spark.sql(\"SELECT educational_level, marital_status, COUNT(*) AS count FROM f2 GROUP BY educational_level, marital_status\").show()"
   ],
   "metadata": {
    "collapsed": false,
    "ExecuteTime": {
     "end_time": "2023-09-22T11:04:15.394729587Z",
     "start_time": "2023-09-22T11:04:14.302567207Z"
    }
   },
   "id": "e9ca4cbbafc54553"
  },
  {
   "cell_type": "code",
   "execution_count": null,
   "outputs": [],
   "source": [],
   "metadata": {
    "collapsed": false
   },
   "id": "4bc399808c5733e6"
  }
 ],
 "metadata": {
  "kernelspec": {
   "display_name": "Python 3",
   "language": "python",
   "name": "python3"
  },
  "language_info": {
   "codemirror_mode": {
    "name": "ipython",
    "version": 2
   },
   "file_extension": ".py",
   "mimetype": "text/x-python",
   "name": "python",
   "nbconvert_exporter": "python",
   "pygments_lexer": "ipython2",
   "version": "2.7.6"
  }
 },
 "nbformat": 4,
 "nbformat_minor": 5
}
