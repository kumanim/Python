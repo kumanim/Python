{
 "cells": [
  {
   "cell_type": "code",
   "execution_count": 28,
   "id": "initial_id",
   "metadata": {
    "collapsed": true,
    "ExecuteTime": {
     "end_time": "2023-09-21T13:21:26.712362668Z",
     "start_time": "2023-09-21T13:21:26.663786897Z"
    }
   },
   "outputs": [],
   "source": [
    "import pandas as pd\n",
    "import pyspark"
   ]
  },
  {
   "cell_type": "code",
   "execution_count": null,
   "outputs": [],
   "source": [],
   "metadata": {
    "collapsed": false
   },
   "id": "2850cc6e0d7887dd"
  },
  {
   "cell_type": "code",
   "execution_count": 29,
   "outputs": [
    {
     "name": "stdout",
     "output_type": "stream",
     "text": [
      "<class 'pandas.core.frame.DataFrame'>\n"
     ]
    }
   ],
   "source": [
    "p1=pd.read_csv('imdb_1000.csv')\n",
    "print(type(p1))"
   ],
   "metadata": {
    "collapsed": false,
    "ExecuteTime": {
     "end_time": "2023-09-21T13:21:27.169354382Z",
     "start_time": "2023-09-21T13:21:26.707644761Z"
    }
   },
   "id": "9be1bd5e6e40be8c"
  },
  {
   "cell_type": "code",
   "execution_count": 30,
   "outputs": [],
   "source": [
    "from pyspark.sql import SparkSession\n",
    "spark=SparkSession.builder.appName('zenlite').getOrCreate() #sparksession is a function we import from spark has builder app name , if the session exist it will run or new session will start"
   ],
   "metadata": {
    "collapsed": false,
    "ExecuteTime": {
     "end_time": "2023-09-21T13:21:27.338215594Z",
     "start_time": "2023-09-21T13:21:27.176726741Z"
    }
   },
   "id": "c3ed020fdc4a9b3c"
  },
  {
   "cell_type": "code",
   "execution_count": 31,
   "outputs": [
    {
     "data": {
      "text/plain": "<pyspark.sql.session.SparkSession at 0x7f6b8886b6d0>",
      "text/html": "\n            <div>\n                <p><b>SparkSession - in-memory</b></p>\n                \n        <div>\n            <p><b>SparkContext</b></p>\n\n            <p><a href=\"http://ip-172-31-34-95.ap-south-1.compute.internal:4040\">Spark UI</a></p>\n\n            <dl>\n              <dt>Version</dt>\n                <dd><code>v3.4.1</code></dd>\n              <dt>Master</dt>\n                <dd><code>local[*]</code></dd>\n              <dt>AppName</dt>\n                <dd><code>zenlite</code></dd>\n            </dl>\n        </div>\n        \n            </div>\n        "
     },
     "execution_count": 31,
     "metadata": {},
     "output_type": "execute_result"
    }
   ],
   "source": [
    "spark"
   ],
   "metadata": {
    "collapsed": false,
    "ExecuteTime": {
     "end_time": "2023-09-21T13:21:27.480126318Z",
     "start_time": "2023-09-21T13:21:27.335351375Z"
    }
   },
   "id": "29189b2ac54c658f"
  },
  {
   "cell_type": "code",
   "execution_count": 32,
   "outputs": [],
   "source": [
    "f1=spark.read.csv('imdb_1000.csv')"
   ],
   "metadata": {
    "collapsed": false,
    "ExecuteTime": {
     "end_time": "2023-09-21T13:21:28.458716226Z",
     "start_time": "2023-09-21T13:21:27.395370642Z"
    }
   },
   "id": "72c8ee3875f6350e"
  },
  {
   "cell_type": "code",
   "execution_count": 33,
   "outputs": [
    {
     "data": {
      "text/plain": "DataFrame[_c0: string, _c1: string, _c2: string, _c3: string, _c4: string, _c5: string]"
     },
     "execution_count": 33,
     "metadata": {},
     "output_type": "execute_result"
    }
   ],
   "source": [
    "f1"
   ],
   "metadata": {
    "collapsed": false,
    "ExecuteTime": {
     "end_time": "2023-09-21T13:21:28.603350625Z",
     "start_time": "2023-09-21T13:21:28.472716041Z"
    }
   },
   "id": "28dedf678dd3b651"
  },
  {
   "cell_type": "code",
   "execution_count": 34,
   "outputs": [
    {
     "name": "stdout",
     "output_type": "stream",
     "text": [
      "+-----------+--------------------+--------------+---------+--------+--------------------+\n",
      "|        _c0|                 _c1|           _c2|      _c3|     _c4|                 _c5|\n",
      "+-----------+--------------------+--------------+---------+--------+--------------------+\n",
      "|star_rating|               title|content_rating|    genre|duration|         actors_list|\n",
      "|        9.3|The Shawshank Red...|             R|    Crime|     142|[u'Tim Robbins', ...|\n",
      "|        9.2|       The Godfather|             R|    Crime|     175|[u'Marlon Brando'...|\n",
      "|        9.1|The Godfather: Pa...|             R|    Crime|     200|[u'Al Pacino', u'...|\n",
      "|          9|     The Dark Knight|         PG-13|   Action|     152|[u'Christian Bale...|\n",
      "|        8.9|        Pulp Fiction|             R|    Crime|     154|[u'John Travolta'...|\n",
      "|        8.9|        12 Angry Men|     NOT RATED|    Drama|      96|[u'Henry Fonda', ...|\n",
      "|        8.9|The Good, the Bad...|     NOT RATED|  Western|     161|[u'Clint Eastwood...|\n",
      "|        8.9|The Lord of the R...|         PG-13|Adventure|     201|[u'Elijah Wood', ...|\n",
      "|        8.9|    Schindler's List|             R|Biography|     195|[u'Liam Neeson', ...|\n",
      "|        8.9|          Fight Club|             R|    Drama|     139|[u'Brad Pitt', u'...|\n",
      "|        8.8|The Lord of the R...|         PG-13|Adventure|     178|[u'Elijah Wood', ...|\n",
      "|        8.8|           Inception|         PG-13|   Action|     148|[u'Leonardo DiCap...|\n",
      "|        8.8|Star Wars: Episod...|            PG|   Action|     124|[u'Mark Hamill', ...|\n",
      "|        8.8|        Forrest Gump|         PG-13|    Drama|     142|[u'Tom Hanks', u'...|\n",
      "|        8.8|The Lord of the R...|         PG-13|Adventure|     179|[u'Elijah Wood', ...|\n",
      "|        8.7|        Interstellar|         PG-13|Adventure|     169|[u'Matthew McCona...|\n",
      "|        8.7|One Flew Over the...|             R|    Drama|     133|[u'Jack Nicholson...|\n",
      "|        8.7|       Seven Samurai|       UNRATED|    Drama|     207|[u'Toshir\\xf4 Mif...|\n",
      "|        8.7|          Goodfellas|             R|Biography|     146|[u'Robert De Niro...|\n",
      "+-----------+--------------------+--------------+---------+--------+--------------------+\n"
     ]
    }
   ],
   "source": [
    "f1.show()"
   ],
   "metadata": {
    "collapsed": false,
    "ExecuteTime": {
     "end_time": "2023-09-21T13:21:29.168102340Z",
     "start_time": "2023-09-21T13:21:28.500088233Z"
    }
   },
   "id": "b573842a005ed4b"
  },
  {
   "cell_type": "code",
   "execution_count": 35,
   "outputs": [
    {
     "name": "stderr",
     "output_type": "stream",
     "text": [
      "                                                                                \r"
     ]
    },
    {
     "name": "stdout",
     "output_type": "stream",
     "text": [
      "+-----------+--------------------+--------------+---------+--------+--------------------+\n",
      "|star_rating|               title|content_rating|    genre|duration|         actors_list|\n",
      "+-----------+--------------------+--------------+---------+--------+--------------------+\n",
      "|        9.3|The Shawshank Red...|             R|    Crime|     142|[u'Tim Robbins', ...|\n",
      "|        9.2|       The Godfather|             R|    Crime|     175|[u'Marlon Brando'...|\n",
      "|        9.1|The Godfather: Pa...|             R|    Crime|     200|[u'Al Pacino', u'...|\n",
      "|          9|     The Dark Knight|         PG-13|   Action|     152|[u'Christian Bale...|\n",
      "|        8.9|        Pulp Fiction|             R|    Crime|     154|[u'John Travolta'...|\n",
      "|        8.9|        12 Angry Men|     NOT RATED|    Drama|      96|[u'Henry Fonda', ...|\n",
      "|        8.9|The Good, the Bad...|     NOT RATED|  Western|     161|[u'Clint Eastwood...|\n",
      "|        8.9|The Lord of the R...|         PG-13|Adventure|     201|[u'Elijah Wood', ...|\n",
      "|        8.9|    Schindler's List|             R|Biography|     195|[u'Liam Neeson', ...|\n",
      "|        8.9|          Fight Club|             R|    Drama|     139|[u'Brad Pitt', u'...|\n",
      "|        8.8|The Lord of the R...|         PG-13|Adventure|     178|[u'Elijah Wood', ...|\n",
      "|        8.8|           Inception|         PG-13|   Action|     148|[u'Leonardo DiCap...|\n",
      "|        8.8|Star Wars: Episod...|            PG|   Action|     124|[u'Mark Hamill', ...|\n",
      "|        8.8|        Forrest Gump|         PG-13|    Drama|     142|[u'Tom Hanks', u'...|\n",
      "|        8.8|The Lord of the R...|         PG-13|Adventure|     179|[u'Elijah Wood', ...|\n",
      "|        8.7|        Interstellar|         PG-13|Adventure|     169|[u'Matthew McCona...|\n",
      "|        8.7|One Flew Over the...|             R|    Drama|     133|[u'Jack Nicholson...|\n",
      "|        8.7|       Seven Samurai|       UNRATED|    Drama|     207|[u'Toshir\\xf4 Mif...|\n",
      "|        8.7|          Goodfellas|             R|Biography|     146|[u'Robert De Niro...|\n",
      "|        8.7|           Star Wars|            PG|   Action|     121|[u'Mark Hamill', ...|\n",
      "+-----------+--------------------+--------------+---------+--------+--------------------+\n"
     ]
    }
   ],
   "source": [
    "f2=spark.read.option('header','true').csv('imdb_1000.csv') #read file with option\n",
    "f2.show()"
   ],
   "metadata": {
    "collapsed": false,
    "ExecuteTime": {
     "end_time": "2023-09-21T13:21:31.914331019Z",
     "start_time": "2023-09-21T13:21:29.139672796Z"
    }
   },
   "id": "fa138515941ecf9d"
  },
  {
   "cell_type": "code",
   "execution_count": 36,
   "outputs": [
    {
     "name": "stdout",
     "output_type": "stream",
     "text": [
      "<class 'pyspark.sql.dataframe.DataFrame'>\n"
     ]
    }
   ],
   "source": [
    "print(type(f2))"
   ],
   "metadata": {
    "collapsed": false,
    "ExecuteTime": {
     "end_time": "2023-09-21T13:21:31.968534455Z",
     "start_time": "2023-09-21T13:21:31.886552675Z"
    }
   },
   "id": "7bca4a09fd4618d"
  },
  {
   "cell_type": "code",
   "execution_count": 37,
   "outputs": [
    {
     "data": {
      "text/plain": "[Row(star_rating='9.3', title='The Shawshank Redemption', content_rating='R', genre='Crime', duration='142', actors_list=\"[u'Tim Robbins', u'Morgan Freeman', u'Bob Gunton']\"),\n Row(star_rating='9.2', title='The Godfather', content_rating='R', genre='Crime', duration='175', actors_list=\"[u'Marlon Brando', u'Al Pacino', u'James Caan']\"),\n Row(star_rating='9.1', title='The Godfather: Part II', content_rating='R', genre='Crime', duration='200', actors_list=\"[u'Al Pacino', u'Robert De Niro', u'Robert Duvall']\"),\n Row(star_rating='9', title='The Dark Knight', content_rating='PG-13', genre='Action', duration='152', actors_list=\"[u'Christian Bale', u'Heath Ledger', u'Aaron Eckhart']\"),\n Row(star_rating='8.9', title='Pulp Fiction', content_rating='R', genre='Crime', duration='154', actors_list=\"[u'John Travolta', u'Uma Thurman', u'Samuel L. Jackson']\")]"
     },
     "execution_count": 37,
     "metadata": {},
     "output_type": "execute_result"
    }
   ],
   "source": [
    "f2.head(5)"
   ],
   "metadata": {
    "collapsed": false,
    "ExecuteTime": {
     "end_time": "2023-09-21T13:21:32.693877156Z",
     "start_time": "2023-09-21T13:21:31.965662695Z"
    }
   },
   "id": "bad494c35fd4ce05"
  }
 ],
 "metadata": {
  "kernelspec": {
   "display_name": "Python 3",
   "language": "python",
   "name": "python3"
  },
  "language_info": {
   "codemirror_mode": {
    "name": "ipython",
    "version": 2
   },
   "file_extension": ".py",
   "mimetype": "text/x-python",
   "name": "python",
   "nbconvert_exporter": "python",
   "pygments_lexer": "ipython2",
   "version": "2.7.6"
  }
 },
 "nbformat": 4,
 "nbformat_minor": 5
}
