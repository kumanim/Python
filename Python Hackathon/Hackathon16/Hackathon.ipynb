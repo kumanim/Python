{
 "cells": [
  {
   "cell_type": "code",
   "execution_count": 3,
   "id": "initial_id",
   "metadata": {
    "collapsed": true,
    "ExecuteTime": {
     "end_time": "2023-10-16T10:07:44.656754403Z",
     "start_time": "2023-10-16T10:07:41.251580706Z"
    }
   },
   "outputs": [
    {
     "name": "stdout",
     "output_type": "stream",
     "text": [
      "Requirement already satisfied: pyspark in /home/ubuntu/PycharmProjects/16October/venv/lib/python3.10/site-packages (3.5.0)\r\n",
      "Requirement already satisfied: py4j==0.10.9.7 in /home/ubuntu/PycharmProjects/16October/venv/lib/python3.10/site-packages (from pyspark) (0.10.9.7)\r\n",
      "\r\n",
      "\u001B[1m[\u001B[0m\u001B[34;49mnotice\u001B[0m\u001B[1;39;49m]\u001B[0m\u001B[39;49m A new release of pip available: \u001B[0m\u001B[31;49m22.3.1\u001B[0m\u001B[39;49m -> \u001B[0m\u001B[32;49m23.3\u001B[0m\r\n",
      "\u001B[1m[\u001B[0m\u001B[34;49mnotice\u001B[0m\u001B[1;39;49m]\u001B[0m\u001B[39;49m To update, run: \u001B[0m\u001B[32;49mpip install --upgrade pip\u001B[0m\r\n",
      "Note: you may need to restart the kernel to use updated packages.\n"
     ]
    }
   ],
   "source": [
    "pip install pyspark"
   ]
  },
  {
   "cell_type": "code",
   "execution_count": 4,
   "outputs": [
    {
     "name": "stdout",
     "output_type": "stream",
     "text": [
      "Requirement already satisfied: pandas in /home/ubuntu/PycharmProjects/16October/venv/lib/python3.10/site-packages (2.1.1)\r\n",
      "Requirement already satisfied: numpy>=1.22.4 in /home/ubuntu/PycharmProjects/16October/venv/lib/python3.10/site-packages (from pandas) (1.26.1)\r\n",
      "Requirement already satisfied: tzdata>=2022.1 in /home/ubuntu/PycharmProjects/16October/venv/lib/python3.10/site-packages (from pandas) (2023.3)\r\n",
      "Requirement already satisfied: pytz>=2020.1 in /home/ubuntu/PycharmProjects/16October/venv/lib/python3.10/site-packages (from pandas) (2023.3.post1)\r\n",
      "Requirement already satisfied: python-dateutil>=2.8.2 in /home/ubuntu/PycharmProjects/16October/venv/lib/python3.10/site-packages (from pandas) (2.8.2)\r\n",
      "Requirement already satisfied: six>=1.5 in /home/ubuntu/PycharmProjects/16October/venv/lib/python3.10/site-packages (from python-dateutil>=2.8.2->pandas) (1.16.0)\r\n",
      "\r\n",
      "\u001B[1m[\u001B[0m\u001B[34;49mnotice\u001B[0m\u001B[1;39;49m]\u001B[0m\u001B[39;49m A new release of pip available: \u001B[0m\u001B[31;49m22.3.1\u001B[0m\u001B[39;49m -> \u001B[0m\u001B[32;49m23.3\u001B[0m\r\n",
      "\u001B[1m[\u001B[0m\u001B[34;49mnotice\u001B[0m\u001B[1;39;49m]\u001B[0m\u001B[39;49m To update, run: \u001B[0m\u001B[32;49mpip install --upgrade pip\u001B[0m\r\n",
      "Note: you may need to restart the kernel to use updated packages.\n"
     ]
    }
   ],
   "source": [
    "pip install pandas"
   ],
   "metadata": {
    "collapsed": false,
    "ExecuteTime": {
     "end_time": "2023-10-16T10:07:47.376542597Z",
     "start_time": "2023-10-16T10:07:44.648868626Z"
    }
   },
   "id": "a93de3c640745dbb"
  },
  {
   "cell_type": "code",
   "execution_count": 5,
   "outputs": [],
   "source": [
    "import pandas as pd\n",
    "import pyspark"
   ],
   "metadata": {
    "collapsed": false,
    "ExecuteTime": {
     "end_time": "2023-10-16T10:07:52.829613590Z",
     "start_time": "2023-10-16T10:07:47.381102730Z"
    }
   },
   "id": "f3786b8b3bca0e4b"
  },
  {
   "cell_type": "code",
   "execution_count": 10,
   "outputs": [
    {
     "name": "stdout",
     "output_type": "stream",
     "text": [
      "<class 'pandas.core.frame.DataFrame'>\n"
     ]
    }
   ],
   "source": [
    "p1=pd.read_csv('project_data.csv')\n",
    "print(type(p1))"
   ],
   "metadata": {
    "collapsed": false,
    "ExecuteTime": {
     "end_time": "2023-10-16T10:13:59.851078842Z",
     "start_time": "2023-10-16T10:13:59.779044495Z"
    }
   },
   "id": "4fba0bb54acf4c41"
  },
  {
   "cell_type": "code",
   "execution_count": 18,
   "outputs": [
    {
     "name": "stdout",
     "output_type": "stream",
     "text": [
      "     customer_id  year_of_birth  educational_level marital_status  \\\n",
      "489     20202190            1952       High School          Widow   \n",
      "490     20202191            1958               PhD   Relationship   \n",
      "491     20202192            1976        Graduation       Divorced   \n",
      "492     20202193            1955        Graduation   Relationship   \n",
      "493     20202194            1964            Master         Single   \n",
      "494     20202195            1944               PhD       Divorced   \n",
      "495     20202196            1962            Master       Divorced   \n",
      "496     20202197            1978        Graduation       Divorced   \n",
      "497     20202198            1971               PhD   Relationship   \n",
      "498     20202199            1949               PhD   Relationship   \n",
      "\n",
      "     annual_income purhcase_date  recency  online_purchases  store_purchases  \\\n",
      "489        28457.0    10/28/2012       96                 4                4   \n",
      "490        70991.0     9/24/2012       11                 2               12   \n",
      "491        46310.0     12/3/2012       99                 6                5   \n",
      "492        23018.0     2/22/2013       72                 3               13   \n",
      "493        58308.0     1/12/2013       77                 2                3   \n",
      "494        55614.0    11/27/2013       85                 9                6   \n",
      "495        59432.0     4/13/2013       88                 5               11   \n",
      "496        55563.0      4/5/2014       22                 2                3   \n",
      "497        43624.0     4/21/2013       83                 4                4   \n",
      "498        41461.0     5/22/2014       63                 6               11   \n",
      "\n",
      "     complaints  calls  intercoms  \n",
      "489           0      3         11  \n",
      "490           0      5         11  \n",
      "491           0      3         11  \n",
      "492           0      3         11  \n",
      "493           0      3         11  \n",
      "494           0      3         11  \n",
      "495           0      3         11  \n",
      "496           0      3         11  \n",
      "497           0      6         11  \n",
      "498           0      6         11  \n"
     ]
    }
   ],
   "source": [
    "print(p1.tail(10))"
   ],
   "metadata": {
    "collapsed": false,
    "ExecuteTime": {
     "end_time": "2023-10-16T10:32:12.341558231Z",
     "start_time": "2023-10-16T10:32:12.286178424Z"
    }
   },
   "id": "af33792c575f940a"
  },
  {
   "cell_type": "code",
   "execution_count": 11,
   "outputs": [],
   "source": [
    "from pyspark.sql import SparkSession"
   ],
   "metadata": {
    "collapsed": false,
    "ExecuteTime": {
     "end_time": "2023-10-16T10:14:28.282632010Z",
     "start_time": "2023-10-16T10:14:28.214431662Z"
    }
   },
   "id": "525e1a40a3f2fae2"
  },
  {
   "cell_type": "code",
   "execution_count": 12,
   "outputs": [
    {
     "name": "stderr",
     "output_type": "stream",
     "text": [
      "Setting default log level to \"WARN\".\n",
      "To adjust logging level use sc.setLogLevel(newLevel). For SparkR, use setLogLevel(newLevel).\n",
      "23/10/16 10:15:56 WARN NativeCodeLoader: Unable to load native-hadoop library for your platform... using builtin-java classes where applicable\n"
     ]
    }
   ],
   "source": [
    "spark = SparkSession.builder.appName('sqlonspark').getOrCreate()"
   ],
   "metadata": {
    "collapsed": false,
    "ExecuteTime": {
     "end_time": "2023-10-16T10:16:03.642188370Z",
     "start_time": "2023-10-16T10:15:38.166999089Z"
    }
   },
   "id": "269480d5e09b0df9"
  },
  {
   "cell_type": "code",
   "execution_count": 13,
   "outputs": [
    {
     "data": {
      "text/plain": "<pyspark.sql.session.SparkSession at 0x7f728fe41270>",
      "text/html": "\n            <div>\n                <p><b>SparkSession - in-memory</b></p>\n                \n        <div>\n            <p><b>SparkContext</b></p>\n\n            <p><a href=\"http://ip-172-31-7-231.ap-south-1.compute.internal:4040\">Spark UI</a></p>\n\n            <dl>\n              <dt>Version</dt>\n                <dd><code>v3.5.0</code></dd>\n              <dt>Master</dt>\n                <dd><code>local[*]</code></dd>\n              <dt>AppName</dt>\n                <dd><code>sqlonspark</code></dd>\n            </dl>\n        </div>\n        \n            </div>\n        "
     },
     "execution_count": 13,
     "metadata": {},
     "output_type": "execute_result"
    }
   ],
   "source": [
    "spark"
   ],
   "metadata": {
    "collapsed": false,
    "ExecuteTime": {
     "end_time": "2023-10-16T10:18:08.533851909Z",
     "start_time": "2023-10-16T10:18:02.914348252Z"
    }
   },
   "id": "7c5efd9bf7eb509"
  },
  {
   "cell_type": "code",
   "execution_count": 14,
   "outputs": [
    {
     "name": "stderr",
     "output_type": "stream",
     "text": [
      "                                                                                \r"
     ]
    }
   ],
   "source": [
    "f1=spark.read.csv('project_data.csv')"
   ],
   "metadata": {
    "collapsed": false,
    "ExecuteTime": {
     "end_time": "2023-10-16T10:19:18.351352285Z",
     "start_time": "2023-10-16T10:19:04.410325088Z"
    }
   },
   "id": "b3f529756f8549cf"
  },
  {
   "cell_type": "code",
   "execution_count": 15,
   "outputs": [
    {
     "data": {
      "text/plain": "DataFrame[_c0: string, _c1: string, _c2: string, _c3: string, _c4: string, _c5: string, _c6: string, _c7: string, _c8: string, _c9: string, _c10: string, _c11: string]"
     },
     "execution_count": 15,
     "metadata": {},
     "output_type": "execute_result"
    }
   ],
   "source": [
    "f1"
   ],
   "metadata": {
    "collapsed": false,
    "ExecuteTime": {
     "end_time": "2023-10-16T10:20:53.003761482Z",
     "start_time": "2023-10-16T10:20:52.895066357Z"
    }
   },
   "id": "c35dac98f97a1fda"
  },
  {
   "cell_type": "code",
   "execution_count": 17,
   "outputs": [
    {
     "name": "stdout",
     "output_type": "stream",
     "text": [
      "+-----------+--------------+-----------------+--------------+-------------+-------------+-------+----------------+---------------+----------+-----+---------+\n",
      "|        _c0|           _c1|              _c2|           _c3|          _c4|          _c5|    _c6|             _c7|            _c8|       _c9| _c10|     _c11|\n",
      "+-----------+--------------+-----------------+--------------+-------------+-------------+-------+----------------+---------------+----------+-----+---------+\n",
      "|customer_id|year_of_birth |educational_level|marital_status|annual_income|purhcase_date|recency|online_purchases|store_purchases|complaints|calls|intercoms|\n",
      "|   20201701|          1982|       Graduation|        Single|        58138|     9/4/2012|     58|               8|              4|         0|    3|       11|\n",
      "|   20201702|          1950|       Graduation|       Married|        46344|     3/8/2014|     38|               1|              2|         0|    3|       11|\n",
      "|   20201703|          1965|       Graduation|      Divorced|        71613|    8/21/2013|     26|               8|             10|         0|    3|       11|\n",
      "|   20201704|          1984|       Graduation|  Relationship|        26646|    2/10/2014|     26|               2|              4|         0|    3|       11|\n",
      "|   20201705|          1981|              PhD|       Widowed|        58293|    1/19/2014|     94|               5|              6|         0|    3|       11|\n",
      "|   20201706|          1967|           Master|  Relationship|        62000|     9/9/2013|     16|               6|             10|         5|    3|       11|\n",
      "|   20201707|          1971|       Graduation|      Divorced|        55635|   11/13/2012|     34|               7|              7|         0|    3|       11|\n",
      "|   20201708|          1985|              PhD|       Married|        33454|     5/8/2013|     32|               4|              4|         0|    3|       11|\n",
      "|   20201709|          1974|              PhD|       Widowed|        30351|     6/6/2013|     19|               3|              2|         3|    3|       11|\n",
      "+-----------+--------------+-----------------+--------------+-------------+-------------+-------+----------------+---------------+----------+-----+---------+\n"
     ]
    }
   ],
   "source": [
    "f1.show(10)"
   ],
   "metadata": {
    "collapsed": false,
    "ExecuteTime": {
     "end_time": "2023-10-16T10:22:32.856552030Z",
     "start_time": "2023-10-16T10:22:31.767535683Z"
    }
   },
   "id": "4aeedcb8914ce0b7"
  },
  {
   "cell_type": "code",
   "execution_count": 21,
   "outputs": [
    {
     "name": "stdout",
     "output_type": "stream",
     "text": [
      "+-----------+--------------+-----------------+--------------+-------------+-------------+-------+----------------+---------------+----------+-----+---------+\n",
      "|customer_id|year_of_birth |educational_level|marital_status|annual_income|purhcase_date|recency|online_purchases|store_purchases|complaints|calls|intercoms|\n",
      "+-----------+--------------+-----------------+--------------+-------------+-------------+-------+----------------+---------------+----------+-----+---------+\n",
      "|   20201701|          1982|       Graduation|        Single|        58138|     9/4/2012|     58|               8|              4|         0|    3|       11|\n",
      "|   20201702|          1950|       Graduation|       Married|        46344|     3/8/2014|     38|               1|              2|         0|    3|       11|\n",
      "|   20201703|          1965|       Graduation|      Divorced|        71613|    8/21/2013|     26|               8|             10|         0|    3|       11|\n",
      "|   20201704|          1984|       Graduation|  Relationship|        26646|    2/10/2014|     26|               2|              4|         0|    3|       11|\n",
      "|   20201705|          1981|              PhD|       Widowed|        58293|    1/19/2014|     94|               5|              6|         0|    3|       11|\n",
      "|   20201706|          1967|           Master|  Relationship|        62000|     9/9/2013|     16|               6|             10|         5|    3|       11|\n",
      "|   20201707|          1971|       Graduation|      Divorced|        55635|   11/13/2012|     34|               7|              7|         0|    3|       11|\n",
      "|   20201708|          1985|              PhD|       Married|        33454|     5/8/2013|     32|               4|              4|         0|    3|       11|\n",
      "|   20201709|          1974|              PhD|       Widowed|        30351|     6/6/2013|     19|               3|              2|         3|    3|       11|\n",
      "|   20201710|          1950|              PhD|        Single|         5648|    3/13/2014|     68|               1|              0|         5|    3|       11|\n",
      "|   20201711|          1983|       Graduation|        Single|         NULL|   11/15/2013|     11|               1|              2|         0|    3|       11|\n",
      "|   20201712|          1976|            Basic|  Relationship|         7500|   11/13/2012|     59|               2|              3|         6|    3|       11|\n",
      "|   20201713|          1959|       Graduation|      Divorced|        63033|   11/15/2013|     82|               3|              8|         0|    3|       11|\n",
      "|   20201714|          1952|           Master|        Single|        59354|   11/15/2013|     53|               6|              5|         0|    3|       11|\n",
      "|   20201715|          1987|       Graduation|       Married|        17323|   10/10/2012|     38|               1|              3|         0|    3|       11|\n",
      "|   20201716|          1960|              PhD|  Relationship|        82800|   11/24/2012|     23|               7|             12|         0|    3|       11|\n",
      "|   20201717|          2000|       Graduation|       Married|        41850|   12/24/2012|     51|               3|              3|         7|    3|       11|\n",
      "|   20201718|          1970|       Graduation|  Relationship|        37760|    8/31/2012|     20|               4|              6|         0|    3|       11|\n",
      "|   20201719|          1980|           Master|        Single|        76995|    3/28/2013|     91|              11|              9|         4|    3|       11|\n",
      "|   20201720|          1998|      High School|       Married|        33812|    11/3/2012|     86|               2|              3|         0|    3|       11|\n",
      "+-----------+--------------+-----------------+--------------+-------------+-------------+-------+----------------+---------------+----------+-----+---------+\n"
     ]
    }
   ],
   "source": [
    "f2=spark.read.option('header','true').csv('project_data.csv')\n",
    "f2.show()"
   ],
   "metadata": {
    "collapsed": false,
    "ExecuteTime": {
     "end_time": "2023-10-16T10:44:51.428276585Z",
     "start_time": "2023-10-16T10:44:49.495977370Z"
    }
   },
   "id": "98e6a0ff9c59b9ee"
  },
  {
   "cell_type": "code",
   "execution_count": 22,
   "outputs": [
    {
     "name": "stdout",
     "output_type": "stream",
     "text": [
      "<class 'pyspark.sql.dataframe.DataFrame'>\n"
     ]
    }
   ],
   "source": [
    "print(type(f2))"
   ],
   "metadata": {
    "collapsed": false,
    "ExecuteTime": {
     "end_time": "2023-10-16T10:46:00.293416891Z",
     "start_time": "2023-10-16T10:46:00.205745464Z"
    }
   },
   "id": "d415d3277e976737"
  },
  {
   "cell_type": "code",
   "execution_count": 23,
   "outputs": [
    {
     "data": {
      "text/plain": "[Row(customer_id='20201701', year_of_birth ='1982', educational_level='Graduation', marital_status='Single', annual_income='58138', purhcase_date='9/4/2012', recency='58', online_purchases='8', store_purchases='4', complaints='0', calls='3', intercoms='11'),\n Row(customer_id='20201702', year_of_birth ='1950', educational_level='Graduation', marital_status='Married', annual_income='46344', purhcase_date='3/8/2014', recency='38', online_purchases='1', store_purchases='2', complaints='0', calls='3', intercoms='11'),\n Row(customer_id='20201703', year_of_birth ='1965', educational_level='Graduation', marital_status='Divorced', annual_income='71613', purhcase_date='8/21/2013', recency='26', online_purchases='8', store_purchases='10', complaints='0', calls='3', intercoms='11'),\n Row(customer_id='20201704', year_of_birth ='1984', educational_level='Graduation', marital_status='Relationship', annual_income='26646', purhcase_date='2/10/2014', recency='26', online_purchases='2', store_purchases='4', complaints='0', calls='3', intercoms='11'),\n Row(customer_id='20201705', year_of_birth ='1981', educational_level='PhD', marital_status='Widowed', annual_income='58293', purhcase_date='1/19/2014', recency='94', online_purchases='5', store_purchases='6', complaints='0', calls='3', intercoms='11'),\n Row(customer_id='20201706', year_of_birth ='1967', educational_level='Master', marital_status='Relationship', annual_income='62000', purhcase_date='9/9/2013', recency='16', online_purchases='6', store_purchases='10', complaints='5', calls='3', intercoms='11'),\n Row(customer_id='20201707', year_of_birth ='1971', educational_level='Graduation', marital_status='Divorced', annual_income='55635', purhcase_date='11/13/2012', recency='34', online_purchases='7', store_purchases='7', complaints='0', calls='3', intercoms='11'),\n Row(customer_id='20201708', year_of_birth ='1985', educational_level='PhD', marital_status='Married', annual_income='33454', purhcase_date='5/8/2013', recency='32', online_purchases='4', store_purchases='4', complaints='0', calls='3', intercoms='11'),\n Row(customer_id='20201709', year_of_birth ='1974', educational_level='PhD', marital_status='Widowed', annual_income='30351', purhcase_date='6/6/2013', recency='19', online_purchases='3', store_purchases='2', complaints='3', calls='3', intercoms='11'),\n Row(customer_id='20201710', year_of_birth ='1950', educational_level='PhD', marital_status='Single', annual_income='5648', purhcase_date='3/13/2014', recency='68', online_purchases='1', store_purchases='0', complaints='5', calls='3', intercoms='11')]"
     },
     "execution_count": 23,
     "metadata": {},
     "output_type": "execute_result"
    }
   ],
   "source": [
    "f2.head(10)"
   ],
   "metadata": {
    "collapsed": false,
    "ExecuteTime": {
     "end_time": "2023-10-16T10:46:38.976355998Z",
     "start_time": "2023-10-16T10:46:38.446130889Z"
    }
   },
   "id": "5257058f86b316bd"
  },
  {
   "cell_type": "code",
   "execution_count": 27,
   "outputs": [],
   "source": [
    "f1.createOrReplaceTempView(\"f2\")"
   ],
   "metadata": {
    "collapsed": false,
    "ExecuteTime": {
     "end_time": "2023-10-16T11:02:09.287494767Z",
     "start_time": "2023-10-16T11:02:09.086427988Z"
    }
   },
   "id": "a5701d0ad99bf8d5"
  },
  {
   "cell_type": "code",
   "execution_count": 28,
   "outputs": [
    {
     "name": "stdout",
     "output_type": "stream",
     "text": [
      "+-----------+--------------+-----------------+--------------+-------------+-------------+-------+----------------+---------------+----------+-----+---------+\n",
      "|customer_id|year_of_birth |educational_level|marital_status|annual_income|purhcase_date|recency|online_purchases|store_purchases|complaints|calls|intercoms|\n",
      "+-----------+--------------+-----------------+--------------+-------------+-------------+-------+----------------+---------------+----------+-----+---------+\n",
      "|   20201701|          1982|       Graduation|        Single|        58138|     9/4/2012|     58|               8|              4|         0|    3|       11|\n",
      "|   20201702|          1950|       Graduation|       Married|        46344|     3/8/2014|     38|               1|              2|         0|    3|       11|\n",
      "|   20201703|          1965|       Graduation|      Divorced|        71613|    8/21/2013|     26|               8|             10|         0|    3|       11|\n",
      "|   20201704|          1984|       Graduation|  Relationship|        26646|    2/10/2014|     26|               2|              4|         0|    3|       11|\n",
      "|   20201705|          1981|              PhD|       Widowed|        58293|    1/19/2014|     94|               5|              6|         0|    3|       11|\n",
      "|   20201706|          1967|           Master|  Relationship|        62000|     9/9/2013|     16|               6|             10|         5|    3|       11|\n",
      "|   20201707|          1971|       Graduation|      Divorced|        55635|   11/13/2012|     34|               7|              7|         0|    3|       11|\n",
      "|   20201708|          1985|              PhD|       Married|        33454|     5/8/2013|     32|               4|              4|         0|    3|       11|\n",
      "|   20201709|          1974|              PhD|       Widowed|        30351|     6/6/2013|     19|               3|              2|         3|    3|       11|\n",
      "|   20201710|          1950|              PhD|        Single|         5648|    3/13/2014|     68|               1|              0|         5|    3|       11|\n",
      "|   20201711|          1983|       Graduation|        Single|         NULL|   11/15/2013|     11|               1|              2|         0|    3|       11|\n",
      "|   20201712|          1976|            Basic|  Relationship|         7500|   11/13/2012|     59|               2|              3|         6|    3|       11|\n",
      "|   20201713|          1959|       Graduation|      Divorced|        63033|   11/15/2013|     82|               3|              8|         0|    3|       11|\n",
      "|   20201714|          1952|           Master|        Single|        59354|   11/15/2013|     53|               6|              5|         0|    3|       11|\n",
      "|   20201715|          1987|       Graduation|       Married|        17323|   10/10/2012|     38|               1|              3|         0|    3|       11|\n",
      "|   20201716|          1960|              PhD|  Relationship|        82800|   11/24/2012|     23|               7|             12|         0|    3|       11|\n",
      "|   20201717|          2000|       Graduation|       Married|        41850|   12/24/2012|     51|               3|              3|         7|    3|       11|\n",
      "|   20201718|          1970|       Graduation|  Relationship|        37760|    8/31/2012|     20|               4|              6|         0|    3|       11|\n",
      "|   20201719|          1980|           Master|        Single|        76995|    3/28/2013|     91|              11|              9|         4|    3|       11|\n",
      "|   20201720|          1998|      High School|       Married|        33812|    11/3/2012|     86|               2|              3|         0|    3|       11|\n",
      "+-----------+--------------+-----------------+--------------+-------------+-------------+-------+----------------+---------------+----------+-----+---------+\n"
     ]
    }
   ],
   "source": [
    "spark.sql(\"select * from f2\").show()"
   ],
   "metadata": {
    "collapsed": false,
    "ExecuteTime": {
     "end_time": "2023-10-16T11:02:20.851475324Z",
     "start_time": "2023-10-16T11:02:20.073353127Z"
    }
   },
   "id": "c251ff5d4317d966"
  },
  {
   "cell_type": "code",
   "execution_count": 29,
   "outputs": [
    {
     "name": "stdout",
     "output_type": "stream",
     "text": [
      "+-----------------+\n",
      "|educational_level|\n",
      "+-----------------+\n",
      "|       Graduation|\n",
      "|       Graduation|\n",
      "|       Graduation|\n",
      "|       Graduation|\n",
      "|              PhD|\n",
      "|           Master|\n",
      "|       Graduation|\n",
      "|              PhD|\n",
      "|              PhD|\n",
      "|              PhD|\n",
      "|       Graduation|\n",
      "|            Basic|\n",
      "|       Graduation|\n",
      "|           Master|\n",
      "|       Graduation|\n",
      "|              PhD|\n",
      "|       Graduation|\n",
      "|       Graduation|\n",
      "|           Master|\n",
      "|      High School|\n",
      "+-----------------+\n"
     ]
    }
   ],
   "source": [
    "spark.sql(\"select educational_level from f2\").show()"
   ],
   "metadata": {
    "collapsed": false,
    "ExecuteTime": {
     "end_time": "2023-10-16T11:03:55.900231942Z",
     "start_time": "2023-10-16T11:03:55.053953480Z"
    }
   },
   "id": "da944ecc85313ca2"
  },
  {
   "cell_type": "code",
   "execution_count": 30,
   "outputs": [
    {
     "name": "stdout",
     "output_type": "stream",
     "text": [
      "+------------------+\n",
      "|count(customer_id)|\n",
      "+------------------+\n",
      "|               499|\n",
      "+------------------+\n"
     ]
    }
   ],
   "source": [
    "spark.sql(\"select count(customer_id) from f2\").show()"
   ],
   "metadata": {
    "collapsed": false,
    "ExecuteTime": {
     "end_time": "2023-10-16T11:07:31.136828636Z",
     "start_time": "2023-10-16T11:07:28.646222022Z"
    }
   },
   "id": "d5a9ecc912bad689"
  },
  {
   "cell_type": "code",
   "execution_count": 31,
   "outputs": [
    {
     "name": "stdout",
     "output_type": "stream",
     "text": [
      "+----------------+\n",
      "|online_purchases|\n",
      "+----------------+\n",
      "|               8|\n",
      "|               8|\n",
      "|               5|\n",
      "|               6|\n",
      "|               7|\n",
      "|               1|\n",
      "|               2|\n",
      "|               3|\n",
      "|               6|\n",
      "|               7|\n",
      "|              11|\n",
      "|               2|\n",
      "|               6|\n",
      "|               5|\n",
      "|               6|\n",
      "|               3|\n",
      "|               5|\n",
      "|               8|\n",
      "|               2|\n",
      "|               2|\n",
      "+----------------+\n"
     ]
    }
   ],
   "source": [
    "spark.sql(\"select online_purchases from f2 where annual_income>'50000'\").show()"
   ],
   "metadata": {
    "collapsed": false,
    "ExecuteTime": {
     "end_time": "2023-10-16T11:08:22.063049103Z",
     "start_time": "2023-10-16T11:08:20.816716540Z"
    }
   },
   "id": "7bb1d0c4d6c48d5b"
  },
  {
   "cell_type": "code",
   "execution_count": 32,
   "outputs": [
    {
     "name": "stderr",
     "output_type": "stream",
     "text": [
      "[Stage 15:>                                                         (0 + 1) / 1]\r"
     ]
    },
    {
     "name": "stdout",
     "output_type": "stream",
     "text": [
      "+------------------+\n",
      "|max(annual_income)|\n",
      "+------------------+\n",
      "|              9548|\n",
      "+------------------+\n"
     ]
    },
    {
     "name": "stderr",
     "output_type": "stream",
     "text": [
      "                                                                                \r"
     ]
    }
   ],
   "source": [
    "spark.sql(\"select max(annual_income) from f2\").show()"
   ],
   "metadata": {
    "collapsed": false,
    "ExecuteTime": {
     "end_time": "2023-10-16T11:09:36.513615287Z",
     "start_time": "2023-10-16T11:09:34.592622268Z"
    }
   },
   "id": "e901bcfe795adcab"
  },
  {
   "cell_type": "code",
   "execution_count": 33,
   "outputs": [
    {
     "name": "stderr",
     "output_type": "stream",
     "text": [
      "[Stage 18:>                                                         (0 + 1) / 1]\r"
     ]
    },
    {
     "name": "stdout",
     "output_type": "stream",
     "text": [
      "+-----------------+-----+\n",
      "|educational_level|count|\n",
      "+-----------------+-----+\n",
      "|      High School|   40|\n",
      "|              PhD|  114|\n",
      "|           Master|   81|\n",
      "|       Graduation|  257|\n",
      "|            Basic|    7|\n",
      "+-----------------+-----+\n"
     ]
    },
    {
     "name": "stderr",
     "output_type": "stream",
     "text": [
      "                                                                                \r"
     ]
    }
   ],
   "source": [
    "spark.sql(\"SELECT educational_level, COUNT(*) AS count FROM f2 GROUP BY educational_level\").show()"
   ],
   "metadata": {
    "collapsed": false,
    "ExecuteTime": {
     "end_time": "2023-10-16T11:10:55.892470118Z",
     "start_time": "2023-10-16T11:10:53.553904801Z"
    }
   },
   "id": "f6df17ea855eefa4"
  },
  {
   "cell_type": "code",
   "execution_count": null,
   "outputs": [],
   "source": [],
   "metadata": {
    "collapsed": false
   },
   "id": "8fa42c816bacc33d"
  }
 ],
 "metadata": {
  "kernelspec": {
   "display_name": "Python 3",
   "language": "python",
   "name": "python3"
  },
  "language_info": {
   "codemirror_mode": {
    "name": "ipython",
    "version": 2
   },
   "file_extension": ".py",
   "mimetype": "text/x-python",
   "name": "python",
   "nbconvert_exporter": "python",
   "pygments_lexer": "ipython2",
   "version": "2.7.6"
  }
 },
 "nbformat": 4,
 "nbformat_minor": 5
}
